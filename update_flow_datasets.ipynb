{
 "cells": [
  {
   "cell_type": "code",
   "execution_count": 1,
   "metadata": {
    "collapsed": true
   },
   "outputs": [],
   "source": [
    "%matplotlib inline\n",
    "import pandas as pd\n",
    "import imp\n",
    "import glob\n",
    "import os\n",
    "from sqlalchemy import create_engine"
   ]
  },
  {
   "cell_type": "markdown",
   "metadata": {},
   "source": [
    "# Update RID flow datasets\n",
    "\n",
    "Each year, updated flow datasets (both modelled and observed) are obtained from NVE and added to RESA2. Tore has a number of Access files here:\n",
    "\n",
    "K:\\Avdeling\\Vass\\316_Miljøinformatikk\\Prosjekter\\RID\\Vannføring\n",
    "\n",
    "which handle the update process. The code here replaces this."
   ]
  },
  {
   "cell_type": "code",
   "execution_count": 2,
   "metadata": {
    "collapsed": true
   },
   "outputs": [],
   "source": [
    "# Connect to db\n",
    "resa2_basic_path = (r'C:\\Data\\James_Work\\Staff\\Heleen_d_W\\ICP_Waters\\Upload_Template'\n",
    "                    r'\\useful_resa2_code.py')\n",
    "\n",
    "resa2_basic = imp.load_source('useful_resa2_code', resa2_basic_path)\n",
    "\n",
    "engine, conn = resa2_basic.connect_to_resa2()"
   ]
  },
  {
   "cell_type": "markdown",
   "metadata": {},
   "source": [
    "## 1. Observed discharge\n",
    "\n",
    "Observed time series are used **only** for the 11 main rivers (project `RID (O 25800 03)`) - all other calculations are based on modelled flows (from HBV). Discharge for these 11 sites can be obtained from the [Hydra II database](http://www4.nve.no/xhydra/). Note that more than 11 sites are involved, because at some chemistry sampling locations the flow is the sum of several NVE discharge series. To find which NVE sites are associated with each chemistry sampling location, see RESA2.\n",
    "\n",
    "The NVE sites associated with the 11 water chemistry sampling locations are listed in the table below, together with **an indication of whether 2016 data were available as of 19/06/2017**. I have also e-mailed Trine at NVE to ask when the remaining data series will be available. \n",
    "\n",
    "| NVE ID | 2016 available in Hydra II? |         Comment         |\n",
    "|:------:|:---------------------------:|:-----------------------:|\n",
    "| 12.285 |              0              |                         |\n",
    "| 16.133 |              0              |                         |\n",
    "| 16.153 |              0              | Can use 16.133 instead? |\n",
    "|  2.605 |              0              |                         |\n",
    "| 212.11 |              0              |                         |\n",
    "|  151.5 |              0              |                         |\n",
    "|  6.78  |              0              |                         |\n",
    "|  21.11 |              1              |                         |\n",
    "|  21.71 |              1              |  Can use 21.11 instead? |\n",
    "|  15.61 |              1              |                         |\n",
    "| 121.22 |              1              |                         |\n",
    "|  28.7  |              1              |                         |\n",
    "|  62.5  |              1              |                         ||\n",
    "\n",
    "\n",
    "Following discussions with Tore on 19/06/2017, note the following:\n",
    "\n",
    " * Chemistry station 29613 should ideally use several NVE series, but some of the usually prove hard to get in time. In the past, Tore has used NVE station 16.133 and then just **added 10 $m^3/s$** to represent the the missing flow volumes. **Check this is OK with Øyvind**. <br><br>\n",
    " \n",
    " * Discharge data for chemistry stations 29617 (NVE ID 2.605) and 36225 (NVE ID 6.78) are often delayed. Need to contact Trine at NVE early to avoid problems later."
   ]
  },
  {
   "cell_type": "code",
   "execution_count": 3,
   "metadata": {
    "collapsed": true
   },
   "outputs": [],
   "source": [
    "# Add code for updating observed datasets here"
   ]
  },
  {
   "cell_type": "markdown",
   "metadata": {},
   "source": [
    "## 2. Modelled discharge\n",
    "\n",
    "Stein has supplied modelled data from HBV for the period from 1990 to 2016 (see e-mail received 13/06/2017 at 12.17). These data are stored locally here:\n",
    "\n",
    "C:\\Data\\James_Work\\Staff\\Oeyvind_K\\Elveovervakingsprogrammet\\Data\\hbv_modelled\\RID_2016\n",
    "\n",
    "The flow files are named e.g. `hbv_00000001.var`, where the number corresponds to the NVE \"vassdragsområde\". These are listed in *vassomr.pdf* in the above folder, and they're also included in RESA2's `DISCHARGE_STATIONS` table. The vassdragsområde numbers are stored in the `NVE_SERINUMMER` field.\n",
    "\n",
    "Tore has an Access database in e.g.\n",
    "\n",
    "K:\\Avdeling\\Vass\\316_Miljøinformatikk\\Prosjekter\\RID\\Vannføring\\Modellert\\NVE_MODELLERT2016\\vannføring\n",
    "\n",
    "that first deletes the modelled NVE values for each station from 1990 onwards and then adds the new data, which includes everything from 1990 plus the additional year of data. The code below does the same, and performs some basic checking of the data at the same time."
   ]
  },
  {
   "cell_type": "code",
   "execution_count": 4,
   "metadata": {
    "collapsed": true
   },
   "outputs": [],
   "source": [
    "# Year of interest\n",
    "year = 2016\n",
    "\n",
    "# Folder containing modelled data\n",
    "data_fold = (r'C:\\Data\\James_Work\\Staff\\Oeyvind_K\\Elveovervakingsprogrammet'\n",
    "             r'\\Data\\hbv_modelled\\RID_2016')"
   ]
  },
  {
   "cell_type": "code",
   "execution_count": null,
   "metadata": {
    "collapsed": false
   },
   "outputs": [],
   "source": [
    "# Get a list of files to process (only interested in flow here)\n",
    "search_path = os.path.join(data_fold, 'hbv_*.var')\n",
    "file_list = glob.glob(search_path)\n",
    "\n",
    "# Get number of days between 1990 and year of interest\n",
    "days_new = len(pd.date_range(start='1990-01-01', \n",
    "                             end='%s-12-31' % year,\n",
    "                             freq='D'))\n",
    "\n",
    "# Get number of days between 1990 and year before\n",
    "days_old = len(pd.date_range(start='1990-01-01', \n",
    "                             end='%s-12-31' % (year-1),\n",
    "                             freq='D'))\n",
    "\n",
    "# Loop over files\n",
    "for file_path in file_list:\n",
    "    # Get name and reg. nr.\n",
    "    name = os.path.split(file_path)[1]\n",
    "    reg_nr = int(name.split('_')[1][:-4])\n",
    "    \n",
    "    # Get RESA2 station ID\n",
    "    sql = (\"SELECT dis_station_id FROM resa2.discharge_stations \"\n",
    "           \"WHERE nve_serienummer = '%s'\" % reg_nr)\n",
    "    dis_id = pd.read_sql_query(sql, engine).iloc[0,0]\n",
    "\n",
    "    # Check number of post-1990 records already in db\n",
    "    # (should equal days_old)\n",
    "    sql = (\"SELECT COUNT(*) FROM resa2.discharge_values \"\n",
    "           \"WHERE dis_station_id = %s \"\n",
    "           \"AND xdate >= DATE '1990-01-01'\" % dis_id)    \n",
    "    cnt_old = pd.read_sql_query(sql, engine).iloc[0,0]    \n",
    "    assert cnt_old == days_old, 'Unexpected number of records already in database.'\n",
    "    \n",
    "    # Read new data\n",
    "    df = pd.read_csv(file_path, delim_whitespace=True, \n",
    "                     header=None, names=['XDATE', 'XVALUE'])\n",
    "    \n",
    "    # Convert dates\n",
    "    df['XDATE'] = pd.to_datetime(df['XDATE'], format='%Y%m%d/1200')\n",
    "\n",
    "    # Check st, end and length\n",
    "    assert df['XDATE'].iloc[0] == pd.Timestamp('1990-01-01'), 'New series does not start on 01/01/1990.'\n",
    "    assert df['XDATE'].iloc[-1] == pd.Timestamp('%s-12-31' % year), 'New series does not end on 31/12/%s.' % year\n",
    "    assert len(df) == days_new, 'Unexpected length for new series.'\n",
    "    \n",
    "    # Add station ID to df\n",
    "    df['DIS_STATION_ID'] = dis_id\n",
    "    \n",
    "    # Drop existing rows post-1990 for this site\n",
    "    sql = (\"DELETE FROM resa2.discharge_values \"\n",
    "           \"WHERE dis_station_id = %s \"\n",
    "           \"AND xdate >= DATE '1990-01-01'\" % dis_id)\n",
    "    res = conn.execute(sql)\n",
    "    \n",
    "    # Add new rows\n",
    "    df.to_sql('discharge_values', con=engine, schema='resa2', \n",
    "              if_exists='append', index=False)    "
   ]
  }
 ],
 "metadata": {
  "kernelspec": {
   "display_name": "Python 2",
   "language": "python",
   "name": "python2"
  },
  "language_info": {
   "codemirror_mode": {
    "name": "ipython",
    "version": 2
   },
   "file_extension": ".py",
   "mimetype": "text/x-python",
   "name": "python",
   "nbconvert_exporter": "python",
   "pygments_lexer": "ipython2",
   "version": "2.7.10"
  }
 },
 "nbformat": 4,
 "nbformat_minor": 0
}
