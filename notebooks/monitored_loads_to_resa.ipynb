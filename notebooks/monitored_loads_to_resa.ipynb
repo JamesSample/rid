{
 "cells": [
  {
   "cell_type": "code",
   "execution_count": 1,
   "metadata": {
    "collapsed": true
   },
   "outputs": [],
   "source": [
    "import pandas as pd\n",
    "import numpy as np\n",
    "import imp\n",
    "from sqlalchemy import create_engine"
   ]
  },
  {
   "cell_type": "markdown",
   "metadata": {},
   "source": [
    "# Add monitored loads to RESA\n",
    "\n",
    "The code in this notebook takes the loads calculated for monitored stations (from [here](http://nbviewer.jupyter.org/github/JamesSample/rid/blob/master/notebooks/rid_working_2016-17.ipynb)) and stores them in the database for future reference.\n",
    "\n",
    "## 1. Read data and restructure"
   ]
  },
  {
   "cell_type": "code",
   "execution_count": 2,
   "metadata": {
    "collapsed": true
   },
   "outputs": [],
   "source": [
    "# Year of interest\n",
    "year = 2016\n",
    "\n",
    "# Time series ID (hangover from Tore's code)\n",
    "ts_id = 11"
   ]
  },
  {
   "cell_type": "code",
   "execution_count": 3,
   "metadata": {
    "collapsed": false
   },
   "outputs": [
    {
     "data": {
      "text/html": [
       "<div>\n",
       "<table border=\"1\" class=\"dataframe\">\n",
       "  <thead>\n",
       "    <tr style=\"text-align: right;\">\n",
       "      <th></th>\n",
       "      <th>station_id</th>\n",
       "      <th>year</th>\n",
       "      <th>variable</th>\n",
       "      <th>value</th>\n",
       "      <th>estimated</th>\n",
       "    </tr>\n",
       "  </thead>\n",
       "  <tbody>\n",
       "    <tr>\n",
       "      <th>0</th>\n",
       "      <td>29831</td>\n",
       "      <td>2016</td>\n",
       "      <td>TOTP</td>\n",
       "      <td>4.200404</td>\n",
       "      <td>0</td>\n",
       "    </tr>\n",
       "    <tr>\n",
       "      <th>1</th>\n",
       "      <td>29830</td>\n",
       "      <td>2016</td>\n",
       "      <td>TOTP</td>\n",
       "      <td>10.997303</td>\n",
       "      <td>0</td>\n",
       "    </tr>\n",
       "    <tr>\n",
       "      <th>2</th>\n",
       "      <td>29843</td>\n",
       "      <td>2016</td>\n",
       "      <td>TOTP</td>\n",
       "      <td>36.475905</td>\n",
       "      <td>0</td>\n",
       "    </tr>\n",
       "    <tr>\n",
       "      <th>3</th>\n",
       "      <td>29822</td>\n",
       "      <td>2016</td>\n",
       "      <td>TOTP</td>\n",
       "      <td>6.196935</td>\n",
       "      <td>0</td>\n",
       "    </tr>\n",
       "    <tr>\n",
       "      <th>4</th>\n",
       "      <td>29800</td>\n",
       "      <td>2016</td>\n",
       "      <td>TOTP</td>\n",
       "      <td>3.967748</td>\n",
       "      <td>0</td>\n",
       "    </tr>\n",
       "  </tbody>\n",
       "</table>\n",
       "</div>"
      ],
      "text/plain": [
       "   station_id  year variable      value  estimated\n",
       "0       29831  2016     TOTP   4.200404          0\n",
       "1       29830  2016     TOTP  10.997303          0\n",
       "2       29843  2016     TOTP  36.475905          0\n",
       "3       29822  2016     TOTP   6.196935          0\n",
       "4       29800  2016     TOTP   3.967748          0"
      ]
     },
     "execution_count": 3,
     "metadata": {},
     "output_type": "execute_result"
    }
   ],
   "source": [
    "# All sites for year\n",
    "in_csv = (r'C:\\Data\\James_Work\\Staff\\Oeyvind_K\\Elveovervakingsprogrammet'\n",
    "          r'\\Results\\Loads_CSVs\\loads_and_flows_all_sites_%s.csv' % year)\n",
    "all_df = pd.read_csv(in_csv)\n",
    "\n",
    "# RID_11 1990 to year\n",
    "in_csv = (r'C:\\Data\\James_Work\\Staff\\Oeyvind_K\\Elveovervakingsprogrammet'\n",
    "          r'\\Results\\Loads_CSVs\\loads_and_flows_rid_11_1990-%s.csv' % year)\n",
    "rid11_df = pd.read_csv(in_csv)\n",
    "\n",
    "# Check that results for RID_11 are idenitcal in both frames for year\n",
    "df1 = all_df.query('rid_group == \"rid_11\"')\n",
    "df1.index = df1['station_id']\n",
    "\n",
    "df2 = rid11_df.query('year == @year')\n",
    "df2.index = df2['station_id']\n",
    "del df2['year']\n",
    "\n",
    "assert (df1 == df2).all().all()\n",
    "\n",
    "# Drop one set of data for RID_11 in year\n",
    "all_df = all_df.query('rid_group != \"rid_11\"')\n",
    "all_df['year'] = year\n",
    "\n",
    "# Concatenate\n",
    "df = pd.concat([all_df, rid11_df], axis=0)\n",
    "\n",
    "# Remove metadata\n",
    "del df['station_code'], df['station_name'], df['rid_group']\n",
    "del df['ospar_region']\n",
    "\n",
    "# Set index\n",
    "df.set_index(['station_id', 'year'], drop=True, inplace=True)\n",
    "\n",
    "# Split into two parts\n",
    "est_cols = [i for i in df.columns if i.split('_')[1] == 'Est']\n",
    "val_cols = list(set(df.columns) - set(est_cols))\n",
    "est_df = df[est_cols].copy()\n",
    "val_df = df[val_cols].copy()\n",
    "\n",
    "# Convert units\n",
    "# 1000m3/day to m3/s\n",
    "val_df['Q_m3/s'] = 1000*val_df['mean_q_1000m3/day']/(24*60*60)\n",
    "del val_df['mean_q_1000m3/day']\n",
    "\n",
    "# Hg kg to tonnes\n",
    "val_df['Hg_tonnes'] = val_df['Hg_kg']\n",
    "del val_df['Hg_kg']\n",
    "\n",
    "# Reset indices\n",
    "est_df.reset_index(inplace=True)\n",
    "val_df.reset_index(inplace=True)\n",
    "\n",
    "# Melt\n",
    "est_df = pd.melt(est_df, id_vars=['station_id', 'year'], \n",
    "                 value_name='estimated')\n",
    "val_df = pd.melt(val_df, id_vars=['station_id', 'year'])\n",
    "\n",
    "# Get pars from col names\n",
    "est_df['variable'] = est_df['variable'].str.split('_').str[0]\n",
    "val_df['variable'] = val_df['variable'].str.split('_').str[0]\n",
    "\n",
    "# Join\n",
    "df = pd.merge(val_df, est_df, how='left', \n",
    "              on=['station_id', 'year', 'variable'])\n",
    "\n",
    "# Drop Ag and NaN\n",
    "df = df.query('variable != \"Ag\"')\n",
    "df.dropna(how='any', inplace=True)\n",
    "\n",
    "# Tidy\n",
    "df['estimated'] = df['estimated'].astype(int)\n",
    "\n",
    "df.head()"
   ]
  },
  {
   "cell_type": "markdown",
   "metadata": {},
   "source": [
    "## 2. Add to database\n",
    "\n",
    "I have created a new table in the database using the following SQL:\n",
    "\n",
    "    CREATE TABLE resa2.RID_MONITORED_LOADS\n",
    "    ( time_series_id number(3, 0) NOT NULL,\n",
    "      station_id number(10, 0) NOT NULL,\n",
    "      out_pid number(4, 0) NOT NULL,\n",
    "      year number(4, 0) NOT NULL,\n",
    "      value number NOT NULL,\n",
    "      estimated number(1,0) NOT NULL,\n",
    "      CONSTRAINT RID_MONITORED_LOADS_PK PRIMARY KEY (time_series_id, station_id, out_pid, year),\n",
    "      CONSTRAINT fk_time_series_id\n",
    "        FOREIGN KEY (time_series_id)\n",
    "        REFERENCES RESA2.RID_TIMESERIES_DEFINITIONS(time_series_id),\n",
    "      CONSTRAINT fk_station_id\n",
    "        FOREIGN KEY (station_id)\n",
    "        REFERENCES RESA2.STATIONS(station_id), \n",
    "      CONSTRAINT fk_out_pid\n",
    "        FOREIGN KEY (out_pid)\n",
    "        REFERENCES RESA2.RID_PUNKTKILDER_OUTPAR_DEF(out_pid)\n",
    "    );\n",
    "    \n",
    "Note that this table references three other database tables."
   ]
  },
  {
   "cell_type": "code",
   "execution_count": 4,
   "metadata": {
    "collapsed": false
   },
   "outputs": [
    {
     "data": {
      "text/html": [
       "<div>\n",
       "<table border=\"1\" class=\"dataframe\">\n",
       "  <thead>\n",
       "    <tr style=\"text-align: right;\">\n",
       "      <th></th>\n",
       "      <th>time_series_id</th>\n",
       "      <th>station_id</th>\n",
       "      <th>out_pid</th>\n",
       "      <th>year</th>\n",
       "      <th>value</th>\n",
       "      <th>estimated</th>\n",
       "    </tr>\n",
       "  </thead>\n",
       "  <tbody>\n",
       "    <tr>\n",
       "      <th>0</th>\n",
       "      <td>11</td>\n",
       "      <td>29831</td>\n",
       "      <td>14</td>\n",
       "      <td>2016</td>\n",
       "      <td>4.200404</td>\n",
       "      <td>0</td>\n",
       "    </tr>\n",
       "    <tr>\n",
       "      <th>1</th>\n",
       "      <td>11</td>\n",
       "      <td>29830</td>\n",
       "      <td>14</td>\n",
       "      <td>2016</td>\n",
       "      <td>10.997303</td>\n",
       "      <td>0</td>\n",
       "    </tr>\n",
       "    <tr>\n",
       "      <th>2</th>\n",
       "      <td>11</td>\n",
       "      <td>29843</td>\n",
       "      <td>14</td>\n",
       "      <td>2016</td>\n",
       "      <td>36.475905</td>\n",
       "      <td>0</td>\n",
       "    </tr>\n",
       "    <tr>\n",
       "      <th>3</th>\n",
       "      <td>11</td>\n",
       "      <td>29822</td>\n",
       "      <td>14</td>\n",
       "      <td>2016</td>\n",
       "      <td>6.196935</td>\n",
       "      <td>0</td>\n",
       "    </tr>\n",
       "    <tr>\n",
       "      <th>4</th>\n",
       "      <td>11</td>\n",
       "      <td>29800</td>\n",
       "      <td>14</td>\n",
       "      <td>2016</td>\n",
       "      <td>3.967748</td>\n",
       "      <td>0</td>\n",
       "    </tr>\n",
       "  </tbody>\n",
       "</table>\n",
       "</div>"
      ],
      "text/plain": [
       "   time_series_id  station_id  out_pid  year      value  estimated\n",
       "0              11       29831       14  2016   4.200404          0\n",
       "1              11       29830       14  2016  10.997303          0\n",
       "2              11       29843       14  2016  36.475905          0\n",
       "3              11       29822       14  2016   6.196935          0\n",
       "4              11       29800       14  2016   3.967748          0"
      ]
     },
     "execution_count": 4,
     "metadata": {},
     "output_type": "execute_result"
    }
   ],
   "source": [
    "# Dict mapping pars to values in RESA2.RID_PUNKTKILDER_OUTPAR_DEF\n",
    "par_dict = {'TOTP':14,\n",
    "            'NO3-N':20,\n",
    "            'As':15,\n",
    "            'TOC':16,\n",
    "            'PO4-P':11,\n",
    "            'Cr':2,\n",
    "            'NH4-N':6,\n",
    "            'Cd':1,\n",
    "            'Pb':9,\n",
    "            'TOTN':8,\n",
    "            'Cu':3,\n",
    "            'Ni':7,\n",
    "            'SPM':18,\n",
    "            'SiO2':19,\n",
    "            'Zn':13,\n",
    "            'Hg':4}\n",
    "\n",
    "# Map vars to pids\n",
    "df['variable'].replace(par_dict, inplace=True)\n",
    "\n",
    "# Add cols and reorder\n",
    "df['time_series_id'] = ts_id\n",
    "df['out_pid'] = df['variable']\n",
    "del df['variable']\n",
    "\n",
    "df = df[['time_series_id', 'station_id', 'out_pid', 'year', \n",
    "         'value', 'estimated']]\n",
    "\n",
    "df.head()"
   ]
  },
  {
   "cell_type": "markdown",
   "metadata": {},
   "source": [
    "## 3. Add to database"
   ]
  },
  {
   "cell_type": "code",
   "execution_count": 5,
   "metadata": {
    "collapsed": true
   },
   "outputs": [],
   "source": [
    "# Connect to db\n",
    "resa2_basic_path = (r'C:\\Data\\James_Work\\Staff\\Heleen_d_W\\ICP_Waters\\Upload_Template'\n",
    "                    r'\\useful_resa2_code.py')\n",
    "resa2_basic = imp.load_source('useful_resa2_code', resa2_basic_path)\n",
    "engine, conn = resa2_basic.connect_to_resa2()"
   ]
  },
  {
   "cell_type": "code",
   "execution_count": 6,
   "metadata": {
    "collapsed": false
   },
   "outputs": [],
   "source": [
    "# Write to db\n",
    "#df.to_sql('rid_monitored_loads', schema='resa2', \n",
    "#          con=engine, if_exists='append',\n",
    "#          index=False)"
   ]
  }
 ],
 "metadata": {
  "kernelspec": {
   "display_name": "Python 2",
   "language": "python",
   "name": "python2"
  },
  "language_info": {
   "codemirror_mode": {
    "name": "ipython",
    "version": 2
   },
   "file_extension": ".py",
   "mimetype": "text/x-python",
   "name": "python",
   "nbconvert_exporter": "python",
   "pygments_lexer": "ipython2",
   "version": "2.7.10"
  }
 },
 "nbformat": 4,
 "nbformat_minor": 0
}
