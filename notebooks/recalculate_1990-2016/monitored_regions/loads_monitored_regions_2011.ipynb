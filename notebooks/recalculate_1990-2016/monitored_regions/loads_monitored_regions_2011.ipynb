{
 "cells": [
  {
   "cell_type": "code",
   "execution_count": 1,
   "id": "83999445",
   "metadata": {
    "execution": {
     "iopub.execute_input": "2021-12-10T20:04:39.058900Z",
     "iopub.status.busy": "2021-12-10T20:04:39.057750Z",
     "iopub.status.idle": "2021-12-10T20:04:40.290027Z",
     "shell.execute_reply": "2021-12-10T20:04:40.290556Z"
    },
    "papermill": {
     "duration": 1.275964,
     "end_time": "2021-12-10T20:04:40.290854",
     "exception": false,
     "start_time": "2021-12-10T20:04:39.014890",
     "status": "completed"
    },
    "tags": []
   },
   "outputs": [],
   "source": [
    "%matplotlib inline\n",
    "import os\n",
    "import shutil\n",
    "from pathlib import Path\n",
    "\n",
    "import matplotlib.pyplot as plt\n",
    "import nivapy3 as nivapy\n",
    "import numpy as np\n",
    "import pandas as pd\n",
    "import seaborn as sn\n",
    "import useful_rid_code as rid\n",
    "\n",
    "sn.set_context(\"notebook\")"
   ]
  },
  {
   "cell_type": "markdown",
   "id": "e747a4d3",
   "metadata": {
    "papermill": {
     "duration": 0.034518,
     "end_time": "2021-12-10T20:04:40.360129",
     "exception": false,
     "start_time": "2021-12-10T20:04:40.325611",
     "status": "completed"
    },
    "tags": []
   },
   "source": [
    "# RID\n",
    "\n",
    "## Data processing for \"monitored rivers\" (parameterised)\n",
    "\n",
    "This notebook is \"parameterised\" for use with Papermill. The cell below has the tag `parameters`, which means the entire notebook can be called from `01_recalculate_ospar_1990-2016_main.ipynb`.\n",
    "\n",
    "**Note:** Some settings in this notebook are specific to the RID programme from 1990 to 2016. Take care for years outside this range."
   ]
  },
  {
   "cell_type": "code",
   "execution_count": 2,
   "id": "ed79c8fd",
   "metadata": {
    "execution": {
     "iopub.execute_input": "2021-12-10T20:04:40.435997Z",
     "iopub.status.busy": "2021-12-10T20:04:40.435043Z",
     "iopub.status.idle": "2021-12-10T20:04:40.438305Z",
     "shell.execute_reply": "2021-12-10T20:04:40.437844Z"
    },
    "papermill": {
     "duration": 0.046807,
     "end_time": "2021-12-10T20:04:40.438499",
     "exception": false,
     "start_time": "2021-12-10T20:04:40.391692",
     "status": "completed"
    },
    "tags": [
     "parameters"
    ]
   },
   "outputs": [],
   "source": [
    "# This cell is tagged 'parameters' for use with Papermill\n",
    "# https://papermill.readthedocs.io/en/latest/index.html\n",
    "year = 1990\n",
    "user = \"\"\n",
    "pw = \"\""
   ]
  },
  {
   "cell_type": "code",
   "execution_count": 3,
   "id": "ae18b1d8",
   "metadata": {
    "execution": {
     "iopub.execute_input": "2021-12-10T20:04:40.508972Z",
     "iopub.status.busy": "2021-12-10T20:04:40.508158Z",
     "iopub.status.idle": "2021-12-10T20:04:40.512509Z",
     "shell.execute_reply": "2021-12-10T20:04:40.511794Z"
    },
    "papermill": {
     "duration": 0.040677,
     "end_time": "2021-12-10T20:04:40.512726",
     "exception": false,
     "start_time": "2021-12-10T20:04:40.472049",
     "status": "completed"
    },
    "tags": [
     "injected-parameters"
    ]
   },
   "outputs": [],
   "source": [
    "# Parameters\n",
    "user = \"jes\"\n",
    "pw = \"BeakabusNov21..\"\n",
    "year = 2011\n"
   ]
  },
  {
   "cell_type": "code",
   "execution_count": 4,
   "id": "8919e278",
   "metadata": {
    "execution": {
     "iopub.execute_input": "2021-12-10T20:04:40.583245Z",
     "iopub.status.busy": "2021-12-10T20:04:40.582539Z",
     "iopub.status.idle": "2021-12-10T20:04:40.968898Z",
     "shell.execute_reply": "2021-12-10T20:04:40.968362Z"
    },
    "papermill": {
     "duration": 0.424075,
     "end_time": "2021-12-10T20:04:40.969060",
     "exception": false,
     "start_time": "2021-12-10T20:04:40.544985",
     "status": "completed"
    },
    "tags": []
   },
   "outputs": [],
   "source": [
    "# Read sites\n",
    "in_xlsx = r\"../../../Data/RID_Sites_List_2017-2020.xlsx\"\n",
    "rid_156_df = pd.read_excel(in_xlsx, sheet_name=\"RID_All\")\n",
    "rid_155_df = rid_156_df.query(\"station_id != 38005\")  # Ignore TROEMÅL2\n",
    "rid_11_df = rid_155_df.query(\"old_rid_group == 'rid_11'\")\n",
    "rid_47_df = rid_155_df.query(\"old_rid_group != 'rid_108'\")"
   ]
  },
  {
   "cell_type": "markdown",
   "id": "923dded9",
   "metadata": {
    "papermill": {
     "duration": 0.031005,
     "end_time": "2021-12-10T20:04:41.034629",
     "exception": false,
     "start_time": "2021-12-10T20:04:41.003624",
     "status": "completed"
    },
    "tags": []
   },
   "source": [
    "## 2. Tabulate raw water chemistry and flow\n",
    "\n",
    "### 2.1. Data for year of interest\n",
    "\n",
    "Just for the RID 11 sites."
   ]
  },
  {
   "cell_type": "code",
   "execution_count": 5,
   "id": "6d149c3a",
   "metadata": {
    "execution": {
     "iopub.execute_input": "2021-12-10T20:04:41.103545Z",
     "iopub.status.busy": "2021-12-10T20:04:41.102596Z",
     "iopub.status.idle": "2021-12-10T20:04:55.829415Z",
     "shell.execute_reply": "2021-12-10T20:04:55.828247Z"
    },
    "papermill": {
     "duration": 14.763822,
     "end_time": "2021-12-10T20:04:55.829692",
     "exception": false,
     "start_time": "2021-12-10T20:04:41.065870",
     "status": "completed"
    },
    "tags": []
   },
   "outputs": [],
   "source": [
    "%%capture\n",
    "\n",
    "# Connect to db\n",
    "engine = rid.connect_to_nivabase(user=user, pw=pw)\n",
    "\n",
    "# Output CSV\n",
    "out_csv = f\"../../../Results/Loads_CSVs/concs_and_flows_rid_11_{year}.csv\"\n",
    "df = rid.write_csv_water_chem(rid_11_df, year, out_csv, engine)"
   ]
  },
  {
   "cell_type": "markdown",
   "id": "69e7c4e6",
   "metadata": {
    "papermill": {
     "duration": 0.032038,
     "end_time": "2021-12-10T20:04:55.899551",
     "exception": false,
     "start_time": "2021-12-10T20:04:55.867513",
     "status": "completed"
    },
    "tags": []
   },
   "source": [
    "### 2.2. Data for all years\n",
    "\n",
    "Not necessary for OSPAR reporting, so commented out below."
   ]
  },
  {
   "cell_type": "code",
   "execution_count": 6,
   "id": "df6dfef7",
   "metadata": {
    "execution": {
     "iopub.execute_input": "2021-12-10T20:04:55.967855Z",
     "iopub.status.busy": "2021-12-10T20:04:55.966785Z",
     "iopub.status.idle": "2021-12-10T20:04:55.972164Z",
     "shell.execute_reply": "2021-12-10T20:04:55.971195Z"
    },
    "papermill": {
     "duration": 0.040003,
     "end_time": "2021-12-10T20:04:55.972367",
     "exception": false,
     "start_time": "2021-12-10T20:04:55.932364",
     "status": "completed"
    },
    "tags": []
   },
   "outputs": [],
   "source": [
    "# %%capture\n",
    "\n",
    "# # Connect to db\n",
    "# engine = rid.connect_to_nivabase(user=user, pw=pw)\n",
    "\n",
    "# # Container for data\n",
    "# df_list = []\n",
    "\n",
    "# # Dummy path for intermediate output (which isn't needed here)\n",
    "# out_csv = r\"../../../Results/Loads_CSVs/cons_and_flows_intermed.csv\"\n",
    "\n",
    "# # Loop over years\n",
    "# for data_yr in range(1990, year + 1):\n",
    "#     # Get data\n",
    "#     df = rid.write_csv_water_chem(rid_155_df, data_yr, out_csv, engine)\n",
    "\n",
    "#     # Add to output\n",
    "#     df_list.append(df)\n",
    "\n",
    "# # Delete intermediate\n",
    "# os.remove(out_csv)\n",
    "\n",
    "# # Combine\n",
    "# df = pd.concat(df_list, axis=0)\n",
    "\n",
    "# # Reorder cols and tidy\n",
    "# st_cols = [\n",
    "#     \"station_id\",\n",
    "#     \"station_code\",\n",
    "#     \"station_name\",\n",
    "#     \"old_rid_group\",\n",
    "#     \"new_rid_group\",\n",
    "#     \"ospar_region\",\n",
    "#     \"sample_date\",\n",
    "#     \"Qs_m3/s\",\n",
    "# ]\n",
    "# par_cols = [i for i in df.columns if i not in st_cols]\n",
    "# par_cols.sort()\n",
    "# df = df[st_cols + par_cols]\n",
    "\n",
    "# # Output CSV\n",
    "# out_csv = f\"../../../Results/Loads_CSVs/concs_and_flows_rid_155_1990-{year}.csv\"\n",
    "# df.to_csv(out_csv, encoding=\"utf-8\", index=False)"
   ]
  },
  {
   "cell_type": "markdown",
   "id": "2fb0f5fe",
   "metadata": {
    "papermill": {
     "duration": 0.035036,
     "end_time": "2021-12-10T20:04:56.040038",
     "exception": false,
     "start_time": "2021-12-10T20:04:56.005002",
     "status": "completed"
    },
    "tags": []
   },
   "source": [
    "## 3. Estimate observed loads\n",
    "\n",
    "### 3.1. Annual flows\n",
    "\n",
    "First get a dataframe of annual flow volumes to join to the summary output. **NB:** This dataframe isn't actually used in the loads calculations - they are handled separately - it's just for the output CSVs."
   ]
  },
  {
   "cell_type": "code",
   "execution_count": 7,
   "id": "84b7c66d",
   "metadata": {
    "execution": {
     "iopub.execute_input": "2021-12-10T20:04:56.100304Z",
     "iopub.status.busy": "2021-12-10T20:04:56.097719Z",
     "iopub.status.idle": "2021-12-10T20:05:15.873966Z",
     "shell.execute_reply": "2021-12-10T20:05:15.874439Z"
    },
    "papermill": {
     "duration": 19.807559,
     "end_time": "2021-12-10T20:05:15.874703",
     "exception": false,
     "start_time": "2021-12-10T20:04:56.067144",
     "status": "completed"
    },
    "tags": []
   },
   "outputs": [
    {
     "name": "stdout",
     "output_type": "stream",
     "text": [
      "Connection successful.\n"
     ]
    },
    {
     "data": {
      "text/html": [
       "<div>\n",
       "<style scoped>\n",
       "    .dataframe tbody tr th:only-of-type {\n",
       "        vertical-align: middle;\n",
       "    }\n",
       "\n",
       "    .dataframe tbody tr th {\n",
       "        vertical-align: top;\n",
       "    }\n",
       "\n",
       "    .dataframe thead th {\n",
       "        text-align: right;\n",
       "    }\n",
       "</style>\n",
       "<table border=\"1\" class=\"dataframe\">\n",
       "  <thead>\n",
       "    <tr style=\"text-align: right;\">\n",
       "      <th></th>\n",
       "      <th>station_id</th>\n",
       "      <th>year</th>\n",
       "      <th>mean_q_1000m3/day</th>\n",
       "    </tr>\n",
       "  </thead>\n",
       "  <tbody>\n",
       "    <tr>\n",
       "      <th>0</th>\n",
       "      <td>29612</td>\n",
       "      <td>1990</td>\n",
       "      <td>25891.134660</td>\n",
       "    </tr>\n",
       "    <tr>\n",
       "      <th>1</th>\n",
       "      <td>29612</td>\n",
       "      <td>1991</td>\n",
       "      <td>19274.318392</td>\n",
       "    </tr>\n",
       "    <tr>\n",
       "      <th>2</th>\n",
       "      <td>29612</td>\n",
       "      <td>1992</td>\n",
       "      <td>22209.901227</td>\n",
       "    </tr>\n",
       "    <tr>\n",
       "      <th>3</th>\n",
       "      <td>29612</td>\n",
       "      <td>1993</td>\n",
       "      <td>28155.888465</td>\n",
       "    </tr>\n",
       "    <tr>\n",
       "      <th>4</th>\n",
       "      <td>29612</td>\n",
       "      <td>1994</td>\n",
       "      <td>27384.945933</td>\n",
       "    </tr>\n",
       "  </tbody>\n",
       "</table>\n",
       "</div>"
      ],
      "text/plain": [
       "   station_id  year  mean_q_1000m3/day\n",
       "0       29612  1990       25891.134660\n",
       "1       29612  1991       19274.318392\n",
       "2       29612  1992       22209.901227\n",
       "3       29612  1993       28155.888465\n",
       "4       29612  1994       27384.945933"
      ]
     },
     "execution_count": 7,
     "metadata": {},
     "output_type": "execute_result"
    }
   ],
   "source": [
    "# Connect to db\n",
    "engine = rid.connect_to_nivabase(user=user, pw=pw)\n",
    "\n",
    "# Get flow data\n",
    "q_df = rid.get_flow_volumes(rid_155_df, 1990, year, engine)\n",
    "q_df.head()"
   ]
  },
  {
   "cell_type": "markdown",
   "id": "e030ad22",
   "metadata": {
    "papermill": {
     "duration": 0.032802,
     "end_time": "2021-12-10T20:05:15.946218",
     "exception": false,
     "start_time": "2021-12-10T20:05:15.913416",
     "status": "completed"
    },
    "tags": []
   },
   "source": [
    "### 3.2. Loads for all rivers"
   ]
  },
  {
   "cell_type": "code",
   "execution_count": 8,
   "id": "dfd8a9cb",
   "metadata": {
    "execution": {
     "iopub.execute_input": "2021-12-10T20:05:16.024781Z",
     "iopub.status.busy": "2021-12-10T20:05:16.019106Z",
     "iopub.status.idle": "2021-12-10T20:11:30.254380Z",
     "shell.execute_reply": "2021-12-10T20:11:30.251902Z"
    },
    "papermill": {
     "duration": 374.278244,
     "end_time": "2021-12-10T20:11:30.254945",
     "exception": false,
     "start_time": "2021-12-10T20:05:15.976701",
     "status": "completed"
    },
    "tags": []
   },
   "outputs": [],
   "source": [
    "%%capture\n",
    "\n",
    "# Connect to db\n",
    "engine = rid.connect_to_nivabase(user=user, pw=pw)\n",
    "\n",
    "# Pars of interest\n",
    "par_list = [\n",
    "    \"SPM\",\n",
    "    \"TOC\",\n",
    "    \"PO4-P\",\n",
    "    \"TOTP\",\n",
    "    \"NO3-N\",\n",
    "    \"NH4-N\",\n",
    "    \"TOTN\",\n",
    "    \"SiO2\",\n",
    "    \"Ag\",\n",
    "    \"As\",\n",
    "    \"Pb\",\n",
    "    \"Cd\",\n",
    "    \"Cu\",\n",
    "    \"Zn\",\n",
    "    \"Ni\",\n",
    "    \"Cr\",\n",
    "    \"Hg\",\n",
    "]\n",
    "\n",
    "# Container for results from each site\n",
    "loads_list = []\n",
    "\n",
    "# Loop over sites\n",
    "for stn_id in rid_155_df[\"station_id\"].values:\n",
    "    # Estimate loads at this site\n",
    "    loads_list.append(\n",
    "        rid.estimate_loads(stn_id, par_list, year, engine, infer_missing=True)\n",
    "    )\n",
    "\n",
    "# Concatenate to new df\n",
    "lds_all = pd.concat(loads_list, axis=0)\n",
    "lds_all.index.name = \"station_id\"\n",
    "lds_all.reset_index(inplace=True)\n",
    "\n",
    "# Get flow data for year\n",
    "q_yr = q_df.query(\"year == @year\")\n",
    "\n",
    "# Join\n",
    "lds_all = pd.merge(lds_all, rid_155_df, how=\"left\", on=\"station_id\")\n",
    "lds_all = pd.merge(lds_all, q_yr, how=\"left\", on=\"station_id\")\n",
    "\n",
    "# Reorder cols and tidy\n",
    "st_cols = [\n",
    "    \"station_id\",\n",
    "    \"station_code\",\n",
    "    \"station_name\",\n",
    "    \"old_rid_group\",\n",
    "    \"new_rid_group\",\n",
    "    \"ospar_region\",\n",
    "    \"mean_q_1000m3/day\",\n",
    "]\n",
    "unwant_cols = [\n",
    "    \"nve_vassdrag_nr\",\n",
    "    \"lat\",\n",
    "    \"lon\",\n",
    "    \"utm_north\",\n",
    "    \"utm_east\",\n",
    "    \"utm_zone\",\n",
    "    \"station_type\",\n",
    "    \"year\",\n",
    "]\n",
    "par_cols = [i for i in lds_all.columns if i not in (st_cols + unwant_cols)]\n",
    "\n",
    "for col in unwant_cols:\n",
    "    del lds_all[col]\n",
    "\n",
    "lds_all = lds_all[st_cols + par_cols]\n",
    "\n",
    "# Write output\n",
    "out_csv = f\"../../../Results/Loads_CSVs/loads_and_flows_all_sites_{year}.csv\"\n",
    "lds_all.to_csv(out_csv, encoding=\"utf-8\", index=False)"
   ]
  },
  {
   "cell_type": "markdown",
   "id": "1a08c87e",
   "metadata": {
    "papermill": {
     "duration": 0.092317,
     "end_time": "2021-12-10T20:11:30.460084",
     "exception": false,
     "start_time": "2021-12-10T20:11:30.367767",
     "status": "completed"
    },
    "tags": []
   },
   "source": [
    "### 3.3. Loads through time\n",
    "\n",
    "The code below is taken from Section 3 of [notebook 3](http://nbviewer.jupyter.org/github/JamesSample/rid/blob/master/notebooks/estimate_loads.ipynb).\n",
    "\n",
    "Not necessary for OSPAR reporting, so commented out below."
   ]
  },
  {
   "cell_type": "code",
   "execution_count": 9,
   "id": "67a16771",
   "metadata": {
    "execution": {
     "iopub.execute_input": "2021-12-10T20:11:30.650969Z",
     "iopub.status.busy": "2021-12-10T20:11:30.648269Z",
     "iopub.status.idle": "2021-12-10T20:11:30.660915Z",
     "shell.execute_reply": "2021-12-10T20:11:30.658378Z"
    },
    "papermill": {
     "duration": 0.11407,
     "end_time": "2021-12-10T20:11:30.661497",
     "exception": false,
     "start_time": "2021-12-10T20:11:30.547427",
     "status": "completed"
    },
    "tags": []
   },
   "outputs": [],
   "source": [
    "# %%capture\n",
    "\n",
    "# # Connect to db\n",
    "# engine = rid.connect_to_nivabase(user=user, pw=pw)\n",
    "\n",
    "# # Period of interest\n",
    "# st_yr, end_yr = 1990, year\n",
    "\n",
    "# # Container for results\n",
    "# loads_list = []\n",
    "\n",
    "# # Loop over sites\n",
    "# for stn_id in rid_155_df[\"station_id\"].values:\n",
    "#     # Loop over years\n",
    "#     for data_yr in range(st_yr, end_yr + 1):\n",
    "#         print(\"Processing Station ID %s for %s\" % (stn_id, data_yr))\n",
    "\n",
    "#         # Get loads\n",
    "#         l_df = rid.estimate_loads(stn_id, par_list, data_yr, engine, infer_missing=True)\n",
    "\n",
    "#         if l_df is not None:\n",
    "#             # Name and reset index\n",
    "#             l_df.index.name = \"station_id\"\n",
    "#             l_df.reset_index(inplace=True)\n",
    "\n",
    "#             # Add year\n",
    "#             l_df[\"year\"] = data_yr\n",
    "\n",
    "#             # Add to outout\n",
    "#             loads_list.append(l_df)\n",
    "\n",
    "# # Concatenate to new df\n",
    "# lds_ts = pd.concat(loads_list, axis=0)\n",
    "\n",
    "# # Join\n",
    "# lds_q_ts = pd.merge(lds_ts, rid_155_df, how=\"left\", on=\"station_id\")\n",
    "# lds_q_ts = pd.merge(lds_q_ts, q_df, how=\"left\", on=[\"station_id\", \"year\"])\n",
    "\n",
    "# # Reorder cols and tidy\n",
    "# st_cols = [\n",
    "#     \"station_id\",\n",
    "#     \"station_code\",\n",
    "#     \"station_name\",\n",
    "#     \"old_rid_group\",\n",
    "#     \"new_rid_group\",\n",
    "#     \"ospar_region\",\n",
    "#     \"mean_q_1000m3/day\",\n",
    "# ]\n",
    "# unwant_cols = [\n",
    "#     \"nve_vassdrag_nr\",\n",
    "#     \"lat\",\n",
    "#     \"lon\",\n",
    "#     \"utm_north\",\n",
    "#     \"utm_east\",\n",
    "#     \"utm_zone\",\n",
    "#     \"station_type\",\n",
    "# ]\n",
    "# par_cols = [i for i in lds_q_ts.columns if i not in (st_cols + unwant_cols)]\n",
    "\n",
    "# for col in unwant_cols:\n",
    "#     del lds_q_ts[col]\n",
    "\n",
    "# lds_q_ts = lds_q_ts[st_cols + par_cols]\n",
    "\n",
    "# # Save output\n",
    "# out_csv = f\"../../../Results/Loads_CSVs/loads_and_flows_rid_155_{st_yr}-{end_yr}.csv\"\n",
    "# lds_q_ts.to_csv(out_csv, encoding=\"utf-8\", index=False)\n",
    "\n",
    "# # Build multi-index on lds_ts for further processing\n",
    "# lds_ts.set_index([\"station_id\", \"year\"], inplace=True)"
   ]
  },
  {
   "cell_type": "code",
   "execution_count": 10,
   "id": "a62c4ad8",
   "metadata": {
    "execution": {
     "iopub.execute_input": "2021-12-10T20:11:30.844163Z",
     "iopub.status.busy": "2021-12-10T20:11:30.839870Z",
     "iopub.status.idle": "2021-12-10T20:11:30.856844Z",
     "shell.execute_reply": "2021-12-10T20:11:30.852939Z"
    },
    "papermill": {
     "duration": 0.113367,
     "end_time": "2021-12-10T20:11:30.857489",
     "exception": false,
     "start_time": "2021-12-10T20:11:30.744122",
     "status": "completed"
    },
    "tags": []
   },
   "outputs": [],
   "source": [
    "# %%capture\n",
    "\n",
    "# # Output folder for plots\n",
    "# out_fold = f\"../../../Results/TS_Plots/RID_Plots_To_{year}\"\n",
    "# if os.path.isdir(out_fold) == False:\n",
    "#     os.mkdir(out_fold)\n",
    "\n",
    "# # Loop over df\n",
    "# for stn_id in rid_11_df[\"station_id\"].values:\n",
    "#     # Get data for this station\n",
    "#     df = lds_ts.loc[stn_id]\n",
    "\n",
    "#     # Separate est and val cols to two dfs\n",
    "#     cols = df.columns\n",
    "#     est_cols = [i for i in cols if i.split(\"_\")[1] == \"Est\"]\n",
    "#     val_cols = [i for i in cols if i.split(\"_\")[1] != \"Est\"]\n",
    "#     val_df = df[val_cols]\n",
    "#     est_df = df[est_cols]\n",
    "\n",
    "#     # Convert to \"long\" format\n",
    "#     val_df.reset_index(inplace=True)\n",
    "#     val_df = pd.melt(val_df, id_vars=\"year\", var_name=\"par_unit\")\n",
    "#     est_df.reset_index(inplace=True)\n",
    "#     est_df = pd.melt(est_df, id_vars=\"year\", var_name=\"par_est\", value_name=\"est\")\n",
    "\n",
    "#     # Get just par for joining\n",
    "#     val_df[\"par\"] = val_df[\"par_unit\"].str.split(\"_\", expand=True)[0]\n",
    "#     est_df[\"par\"] = est_df[\"par_est\"].str.split(\"_\", expand=True)[0]\n",
    "\n",
    "#     # Join\n",
    "#     df = pd.merge(val_df, est_df, how=\"left\", on=[\"year\", \"par\"])\n",
    "\n",
    "#     # Extract cols of interest\n",
    "#     df = df[[\"year\", \"par_unit\", \"value\", \"est\"]]\n",
    "\n",
    "#     # Plot\n",
    "#     g = sn.factorplot(\n",
    "#         x=\"year\",\n",
    "#         y=\"value\",\n",
    "#         hue=\"est\",\n",
    "#         col=\"par_unit\",\n",
    "#         col_wrap=3,\n",
    "#         data=df,\n",
    "#         kind=\"bar\",\n",
    "#         dodge=False,\n",
    "#         sharex=False,\n",
    "#         sharey=False,\n",
    "#         alpha=0.5,\n",
    "#         aspect=2,\n",
    "#         legend=False,\n",
    "#     )\n",
    "\n",
    "#     # Rotate tick labels and tidy\n",
    "#     for ax in g.axes.flatten():\n",
    "#         for tick in ax.get_xticklabels():\n",
    "#             tick.set(rotation=45)\n",
    "#     plt.tight_layout()\n",
    "\n",
    "#     # Save\n",
    "#     out_path = os.path.join(out_fold, f\"{stn_id}.png\")\n",
    "#     plt.savefig(out_path, dpi=200)\n",
    "#     plt.close()"
   ]
  },
  {
   "cell_type": "markdown",
   "id": "694c946f",
   "metadata": {
    "papermill": {
     "duration": 0.10553,
     "end_time": "2021-12-10T20:11:31.055015",
     "exception": false,
     "start_time": "2021-12-10T20:11:30.949485",
     "status": "completed"
    },
    "tags": []
   },
   "source": [
    "## 4. Generate output tables for Word\n",
    "\n",
    "Not necessary for OSPAR reporting, so commented out below.\n",
    "\n",
    "### 4.1. Table 1: Raw water chemistry\n",
    "\n",
    "The code below is based on Section 2 of [notebook 5](http://nbviewer.jupyter.org/github/JamesSample/rid/blob/master/notebooks/word_data_tables.ipynb)."
   ]
  },
  {
   "cell_type": "code",
   "execution_count": 11,
   "id": "81b90f47",
   "metadata": {
    "execution": {
     "iopub.execute_input": "2021-12-10T20:11:31.257352Z",
     "iopub.status.busy": "2021-12-10T20:11:31.255647Z",
     "iopub.status.idle": "2021-12-10T20:11:31.267113Z",
     "shell.execute_reply": "2021-12-10T20:11:31.265286Z"
    },
    "papermill": {
     "duration": 0.11624,
     "end_time": "2021-12-10T20:11:31.267532",
     "exception": false,
     "start_time": "2021-12-10T20:11:31.151292",
     "status": "completed"
    },
    "tags": []
   },
   "outputs": [],
   "source": [
    "# engine = rid.connect_to_nivabase(user=user, pw=pw)\n",
    "# tab_path = rid.copy_word_template(1, year)\n",
    "# rid.write_word_water_chem_tables(rid_47_df, year, tab_path, engine)"
   ]
  },
  {
   "cell_type": "markdown",
   "id": "58c92671",
   "metadata": {
    "papermill": {
     "duration": 0.066657,
     "end_time": "2021-12-10T20:11:31.393082",
     "exception": false,
     "start_time": "2021-12-10T20:11:31.326425",
     "status": "completed"
    },
    "tags": []
   },
   "source": [
    "### 4.2. Table 2: Estimated loads at each site\n",
    "\n",
    "The code below is based on Section 3 of [notebook 5](http://nbviewer.jupyter.org/github/JamesSample/rid/blob/master/notebooks/word_data_tables.ipynb)."
   ]
  },
  {
   "cell_type": "code",
   "execution_count": 12,
   "id": "87dd596c",
   "metadata": {
    "execution": {
     "iopub.execute_input": "2021-12-10T20:11:31.504341Z",
     "iopub.status.busy": "2021-12-10T20:11:31.502683Z",
     "iopub.status.idle": "2021-12-10T20:11:31.508283Z",
     "shell.execute_reply": "2021-12-10T20:11:31.509407Z"
    },
    "papermill": {
     "duration": 0.064769,
     "end_time": "2021-12-10T20:11:31.509750",
     "exception": false,
     "start_time": "2021-12-10T20:11:31.444981",
     "status": "completed"
    },
    "tags": []
   },
   "outputs": [],
   "source": [
    "# engine = rid.connect_to_nivabase(user=user, pw=pw)\n",
    "# tab_path = rid.copy_word_template(2, year)\n",
    "# loads_csv = f\"../../../Results/Loads_CSVs/loads_and_flows_all_sites_{year}.csv\"\n",
    "# rid.write_word_loads_table(rid_155_df, loads_csv, tab_path, engine)"
   ]
  }
 ],
 "metadata": {
  "kernelspec": {
   "display_name": "Python 3 (ipykernel)",
   "language": "python",
   "name": "python3"
  },
  "language_info": {
   "codemirror_mode": {
    "name": "ipython",
    "version": 3
   },
   "file_extension": ".py",
   "mimetype": "text/x-python",
   "name": "python",
   "nbconvert_exporter": "python",
   "pygments_lexer": "ipython3",
   "version": "3.9.7"
  },
  "papermill": {
   "default_parameters": {},
   "duration": 415.31954,
   "end_time": "2021-12-10T20:11:32.989847",
   "environment_variables": {},
   "exception": null,
   "input_path": "02_loads_monitored_regions_1990-2016_parameterised.ipynb",
   "output_path": "./recalculate_1990-2016/monitored_regions/loads_monitored_regions_2011.ipynb",
   "parameters": {
    "pw": "BeakabusNov21..",
    "user": "jes",
    "year": 2011
   },
   "start_time": "2021-12-10T20:04:37.670307",
   "version": "2.3.3"
  }
 },
 "nbformat": 4,
 "nbformat_minor": 5
}