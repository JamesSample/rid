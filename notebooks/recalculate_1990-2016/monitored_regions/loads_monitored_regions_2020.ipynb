{
 "cells": [
  {
   "cell_type": "code",
   "execution_count": 1,
   "id": "11490be9",
   "metadata": {
    "execution": {
     "iopub.execute_input": "2021-12-10T21:41:13.933444Z",
     "iopub.status.busy": "2021-12-10T21:41:13.932682Z",
     "iopub.status.idle": "2021-12-10T21:41:14.998868Z",
     "shell.execute_reply": "2021-12-10T21:41:14.998284Z"
    },
    "papermill": {
     "duration": 1.136197,
     "end_time": "2021-12-10T21:41:14.999026",
     "exception": false,
     "start_time": "2021-12-10T21:41:13.862829",
     "status": "completed"
    },
    "tags": []
   },
   "outputs": [],
   "source": [
    "%matplotlib inline\n",
    "import os\n",
    "import shutil\n",
    "from pathlib import Path\n",
    "\n",
    "import matplotlib.pyplot as plt\n",
    "import nivapy3 as nivapy\n",
    "import numpy as np\n",
    "import pandas as pd\n",
    "import seaborn as sn\n",
    "import useful_rid_code as rid\n",
    "\n",
    "sn.set_context(\"notebook\")"
   ]
  },
  {
   "cell_type": "markdown",
   "id": "97bb3aec",
   "metadata": {
    "papermill": {
     "duration": 0.029952,
     "end_time": "2021-12-10T21:41:15.059414",
     "exception": false,
     "start_time": "2021-12-10T21:41:15.029462",
     "status": "completed"
    },
    "tags": []
   },
   "source": [
    "# RID\n",
    "\n",
    "## Data processing for \"monitored rivers\" (parameterised)\n",
    "\n",
    "This notebook is \"parameterised\" for use with Papermill. The cell below has the tag `parameters`, which means the entire notebook can be called from `01_recalculate_ospar_1990-2016_main.ipynb`.\n",
    "\n",
    "**Note:** Some settings in this notebook are specific to the RID programme from 1990 to 2016. Take care for years outside this range."
   ]
  },
  {
   "cell_type": "code",
   "execution_count": 2,
   "id": "d0e01f44",
   "metadata": {
    "execution": {
     "iopub.execute_input": "2021-12-10T21:41:15.120166Z",
     "iopub.status.busy": "2021-12-10T21:41:15.119629Z",
     "iopub.status.idle": "2021-12-10T21:41:15.122556Z",
     "shell.execute_reply": "2021-12-10T21:41:15.122984Z"
    },
    "papermill": {
     "duration": 0.036389,
     "end_time": "2021-12-10T21:41:15.123284",
     "exception": false,
     "start_time": "2021-12-10T21:41:15.086895",
     "status": "completed"
    },
    "tags": [
     "parameters"
    ]
   },
   "outputs": [],
   "source": [
    "# This cell is tagged 'parameters' for use with Papermill\n",
    "# https://papermill.readthedocs.io/en/latest/index.html\n",
    "year = 1990\n",
    "user = \"\"\n",
    "pw = \"\""
   ]
  },
  {
   "cell_type": "code",
   "execution_count": 3,
   "id": "642bc347",
   "metadata": {
    "execution": {
     "iopub.execute_input": "2021-12-10T21:41:15.188018Z",
     "iopub.status.busy": "2021-12-10T21:41:15.187410Z",
     "iopub.status.idle": "2021-12-10T21:41:15.190406Z",
     "shell.execute_reply": "2021-12-10T21:41:15.189932Z"
    },
    "papermill": {
     "duration": 0.037694,
     "end_time": "2021-12-10T21:41:15.190560",
     "exception": false,
     "start_time": "2021-12-10T21:41:15.152866",
     "status": "completed"
    },
    "tags": [
     "injected-parameters"
    ]
   },
   "outputs": [],
   "source": [
    "# Parameters\n",
    "user = \"jes\"\n",
    "pw = \"BeakabusNov21..\"\n",
    "year = 2020\n"
   ]
  },
  {
   "cell_type": "code",
   "execution_count": 4,
   "id": "739911ab",
   "metadata": {
    "execution": {
     "iopub.execute_input": "2021-12-10T21:41:15.252759Z",
     "iopub.status.busy": "2021-12-10T21:41:15.252128Z",
     "iopub.status.idle": "2021-12-10T21:41:15.580348Z",
     "shell.execute_reply": "2021-12-10T21:41:15.579609Z"
    },
    "papermill": {
     "duration": 0.361314,
     "end_time": "2021-12-10T21:41:15.580537",
     "exception": false,
     "start_time": "2021-12-10T21:41:15.219223",
     "status": "completed"
    },
    "tags": []
   },
   "outputs": [],
   "source": [
    "# Read sites\n",
    "in_xlsx = r\"../../../Data/RID_Sites_List_2017-2020.xlsx\"\n",
    "rid_156_df = pd.read_excel(in_xlsx, sheet_name=\"RID_All\")\n",
    "rid_155_df = rid_156_df.query(\"station_id != 38005\")  # Ignore TROEMÅL2\n",
    "rid_11_df = rid_155_df.query(\"old_rid_group == 'rid_11'\")\n",
    "rid_47_df = rid_155_df.query(\"old_rid_group != 'rid_108'\")"
   ]
  },
  {
   "cell_type": "markdown",
   "id": "11cc46dc",
   "metadata": {
    "papermill": {
     "duration": 0.030671,
     "end_time": "2021-12-10T21:41:15.640838",
     "exception": false,
     "start_time": "2021-12-10T21:41:15.610167",
     "status": "completed"
    },
    "tags": []
   },
   "source": [
    "## 2. Tabulate raw water chemistry and flow\n",
    "\n",
    "### 2.1. Data for year of interest\n",
    "\n",
    "Just for the RID 11 sites."
   ]
  },
  {
   "cell_type": "code",
   "execution_count": 5,
   "id": "6d584dff",
   "metadata": {
    "execution": {
     "iopub.execute_input": "2021-12-10T21:41:15.710610Z",
     "iopub.status.busy": "2021-12-10T21:41:15.709848Z",
     "iopub.status.idle": "2021-12-10T21:41:25.541395Z",
     "shell.execute_reply": "2021-12-10T21:41:25.540801Z"
    },
    "papermill": {
     "duration": 9.869644,
     "end_time": "2021-12-10T21:41:25.541561",
     "exception": false,
     "start_time": "2021-12-10T21:41:15.671917",
     "status": "completed"
    },
    "tags": []
   },
   "outputs": [],
   "source": [
    "%%capture\n",
    "\n",
    "# Connect to db\n",
    "engine = rid.connect_to_nivabase(user=user, pw=pw)\n",
    "\n",
    "# Output CSV\n",
    "out_csv = f\"../../../Results/Loads_CSVs/concs_and_flows_rid_11_{year}.csv\"\n",
    "df = rid.write_csv_water_chem(rid_11_df, year, out_csv, engine)"
   ]
  },
  {
   "cell_type": "markdown",
   "id": "c2fd3b63",
   "metadata": {
    "papermill": {
     "duration": 0.038248,
     "end_time": "2021-12-10T21:41:25.623418",
     "exception": false,
     "start_time": "2021-12-10T21:41:25.585170",
     "status": "completed"
    },
    "tags": []
   },
   "source": [
    "### 2.2. Data for all years\n",
    "\n",
    "Not necessary for OSPAR reporting, so commented out below."
   ]
  },
  {
   "cell_type": "code",
   "execution_count": 6,
   "id": "f5ba8a9a",
   "metadata": {
    "execution": {
     "iopub.execute_input": "2021-12-10T21:41:25.710229Z",
     "iopub.status.busy": "2021-12-10T21:41:25.708766Z",
     "iopub.status.idle": "2021-12-10T21:41:25.715688Z",
     "shell.execute_reply": "2021-12-10T21:41:25.714613Z"
    },
    "papermill": {
     "duration": 0.052252,
     "end_time": "2021-12-10T21:41:25.715951",
     "exception": false,
     "start_time": "2021-12-10T21:41:25.663699",
     "status": "completed"
    },
    "tags": []
   },
   "outputs": [],
   "source": [
    "# %%capture\n",
    "\n",
    "# # Connect to db\n",
    "# engine = rid.connect_to_nivabase(user=user, pw=pw)\n",
    "\n",
    "# # Container for data\n",
    "# df_list = []\n",
    "\n",
    "# # Dummy path for intermediate output (which isn't needed here)\n",
    "# out_csv = r\"../../../Results/Loads_CSVs/cons_and_flows_intermed.csv\"\n",
    "\n",
    "# # Loop over years\n",
    "# for data_yr in range(1990, year + 1):\n",
    "#     # Get data\n",
    "#     df = rid.write_csv_water_chem(rid_155_df, data_yr, out_csv, engine)\n",
    "\n",
    "#     # Add to output\n",
    "#     df_list.append(df)\n",
    "\n",
    "# # Delete intermediate\n",
    "# os.remove(out_csv)\n",
    "\n",
    "# # Combine\n",
    "# df = pd.concat(df_list, axis=0)\n",
    "\n",
    "# # Reorder cols and tidy\n",
    "# st_cols = [\n",
    "#     \"station_id\",\n",
    "#     \"station_code\",\n",
    "#     \"station_name\",\n",
    "#     \"old_rid_group\",\n",
    "#     \"new_rid_group\",\n",
    "#     \"ospar_region\",\n",
    "#     \"sample_date\",\n",
    "#     \"Qs_m3/s\",\n",
    "# ]\n",
    "# par_cols = [i for i in df.columns if i not in st_cols]\n",
    "# par_cols.sort()\n",
    "# df = df[st_cols + par_cols]\n",
    "\n",
    "# # Output CSV\n",
    "# out_csv = f\"../../../Results/Loads_CSVs/concs_and_flows_rid_155_1990-{year}.csv\"\n",
    "# df.to_csv(out_csv, encoding=\"utf-8\", index=False)"
   ]
  },
  {
   "cell_type": "markdown",
   "id": "1298d3a0",
   "metadata": {
    "papermill": {
     "duration": 0.045002,
     "end_time": "2021-12-10T21:41:25.801323",
     "exception": false,
     "start_time": "2021-12-10T21:41:25.756321",
     "status": "completed"
    },
    "tags": []
   },
   "source": [
    "## 3. Estimate observed loads\n",
    "\n",
    "### 3.1. Annual flows\n",
    "\n",
    "First get a dataframe of annual flow volumes to join to the summary output. **NB:** This dataframe isn't actually used in the loads calculations - they are handled separately - it's just for the output CSVs."
   ]
  },
  {
   "cell_type": "code",
   "execution_count": 7,
   "id": "d3c5fed8",
   "metadata": {
    "execution": {
     "iopub.execute_input": "2021-12-10T21:41:25.876134Z",
     "iopub.status.busy": "2021-12-10T21:41:25.874825Z",
     "iopub.status.idle": "2021-12-10T21:41:45.758944Z",
     "shell.execute_reply": "2021-12-10T21:41:45.759511Z"
    },
    "papermill": {
     "duration": 19.921371,
     "end_time": "2021-12-10T21:41:45.759754",
     "exception": false,
     "start_time": "2021-12-10T21:41:25.838383",
     "status": "completed"
    },
    "tags": []
   },
   "outputs": [
    {
     "name": "stdout",
     "output_type": "stream",
     "text": [
      "Connection successful.\n"
     ]
    },
    {
     "data": {
      "text/html": [
       "<div>\n",
       "<style scoped>\n",
       "    .dataframe tbody tr th:only-of-type {\n",
       "        vertical-align: middle;\n",
       "    }\n",
       "\n",
       "    .dataframe tbody tr th {\n",
       "        vertical-align: top;\n",
       "    }\n",
       "\n",
       "    .dataframe thead th {\n",
       "        text-align: right;\n",
       "    }\n",
       "</style>\n",
       "<table border=\"1\" class=\"dataframe\">\n",
       "  <thead>\n",
       "    <tr style=\"text-align: right;\">\n",
       "      <th></th>\n",
       "      <th>station_id</th>\n",
       "      <th>year</th>\n",
       "      <th>mean_q_1000m3/day</th>\n",
       "    </tr>\n",
       "  </thead>\n",
       "  <tbody>\n",
       "    <tr>\n",
       "      <th>0</th>\n",
       "      <td>29612</td>\n",
       "      <td>1990</td>\n",
       "      <td>25891.134660</td>\n",
       "    </tr>\n",
       "    <tr>\n",
       "      <th>1</th>\n",
       "      <td>29612</td>\n",
       "      <td>1991</td>\n",
       "      <td>19274.318392</td>\n",
       "    </tr>\n",
       "    <tr>\n",
       "      <th>2</th>\n",
       "      <td>29612</td>\n",
       "      <td>1992</td>\n",
       "      <td>22209.901227</td>\n",
       "    </tr>\n",
       "    <tr>\n",
       "      <th>3</th>\n",
       "      <td>29612</td>\n",
       "      <td>1993</td>\n",
       "      <td>28155.888465</td>\n",
       "    </tr>\n",
       "    <tr>\n",
       "      <th>4</th>\n",
       "      <td>29612</td>\n",
       "      <td>1994</td>\n",
       "      <td>27384.945933</td>\n",
       "    </tr>\n",
       "  </tbody>\n",
       "</table>\n",
       "</div>"
      ],
      "text/plain": [
       "   station_id  year  mean_q_1000m3/day\n",
       "0       29612  1990       25891.134660\n",
       "1       29612  1991       19274.318392\n",
       "2       29612  1992       22209.901227\n",
       "3       29612  1993       28155.888465\n",
       "4       29612  1994       27384.945933"
      ]
     },
     "execution_count": 7,
     "metadata": {},
     "output_type": "execute_result"
    }
   ],
   "source": [
    "# Connect to db\n",
    "engine = rid.connect_to_nivabase(user=user, pw=pw)\n",
    "\n",
    "# Get flow data\n",
    "q_df = rid.get_flow_volumes(rid_155_df, 1990, year, engine)\n",
    "q_df.head()"
   ]
  },
  {
   "cell_type": "markdown",
   "id": "45725161",
   "metadata": {
    "papermill": {
     "duration": 0.036188,
     "end_time": "2021-12-10T21:41:45.832424",
     "exception": false,
     "start_time": "2021-12-10T21:41:45.796236",
     "status": "completed"
    },
    "tags": []
   },
   "source": [
    "### 3.2. Loads for all rivers"
   ]
  },
  {
   "cell_type": "code",
   "execution_count": 8,
   "id": "024cf677",
   "metadata": {
    "execution": {
     "iopub.execute_input": "2021-12-10T21:41:45.921191Z",
     "iopub.status.busy": "2021-12-10T21:41:45.917251Z",
     "iopub.status.idle": "2021-12-10T21:46:08.145755Z",
     "shell.execute_reply": "2021-12-10T21:46:08.145262Z"
    },
    "papermill": {
     "duration": 262.272922,
     "end_time": "2021-12-10T21:46:08.145906",
     "exception": false,
     "start_time": "2021-12-10T21:41:45.872984",
     "status": "completed"
    },
    "tags": []
   },
   "outputs": [],
   "source": [
    "%%capture\n",
    "\n",
    "# Connect to db\n",
    "engine = rid.connect_to_nivabase(user=user, pw=pw)\n",
    "\n",
    "# Pars of interest\n",
    "par_list = [\n",
    "    \"SPM\",\n",
    "    \"TOC\",\n",
    "    \"PO4-P\",\n",
    "    \"TOTP\",\n",
    "    \"NO3-N\",\n",
    "    \"NH4-N\",\n",
    "    \"TOTN\",\n",
    "    \"SiO2\",\n",
    "    \"Ag\",\n",
    "    \"As\",\n",
    "    \"Pb\",\n",
    "    \"Cd\",\n",
    "    \"Cu\",\n",
    "    \"Zn\",\n",
    "    \"Ni\",\n",
    "    \"Cr\",\n",
    "    \"Hg\",\n",
    "]\n",
    "\n",
    "# Container for results from each site\n",
    "loads_list = []\n",
    "\n",
    "# Loop over sites\n",
    "for stn_id in rid_155_df[\"station_id\"].values:\n",
    "    # Estimate loads at this site\n",
    "    loads_list.append(\n",
    "        rid.estimate_loads(stn_id, par_list, year, engine, infer_missing=True)\n",
    "    )\n",
    "\n",
    "# Concatenate to new df\n",
    "lds_all = pd.concat(loads_list, axis=0)\n",
    "lds_all.index.name = \"station_id\"\n",
    "lds_all.reset_index(inplace=True)\n",
    "\n",
    "# Get flow data for year\n",
    "q_yr = q_df.query(\"year == @year\")\n",
    "\n",
    "# Join\n",
    "lds_all = pd.merge(lds_all, rid_155_df, how=\"left\", on=\"station_id\")\n",
    "lds_all = pd.merge(lds_all, q_yr, how=\"left\", on=\"station_id\")\n",
    "\n",
    "# Reorder cols and tidy\n",
    "st_cols = [\n",
    "    \"station_id\",\n",
    "    \"station_code\",\n",
    "    \"station_name\",\n",
    "    \"old_rid_group\",\n",
    "    \"new_rid_group\",\n",
    "    \"ospar_region\",\n",
    "    \"mean_q_1000m3/day\",\n",
    "]\n",
    "unwant_cols = [\n",
    "    \"nve_vassdrag_nr\",\n",
    "    \"lat\",\n",
    "    \"lon\",\n",
    "    \"utm_north\",\n",
    "    \"utm_east\",\n",
    "    \"utm_zone\",\n",
    "    \"station_type\",\n",
    "    \"year\",\n",
    "]\n",
    "par_cols = [i for i in lds_all.columns if i not in (st_cols + unwant_cols)]\n",
    "\n",
    "for col in unwant_cols:\n",
    "    del lds_all[col]\n",
    "\n",
    "lds_all = lds_all[st_cols + par_cols]\n",
    "\n",
    "# Write output\n",
    "out_csv = f\"../../../Results/Loads_CSVs/loads_and_flows_all_sites_{year}.csv\"\n",
    "lds_all.to_csv(out_csv, encoding=\"utf-8\", index=False)"
   ]
  },
  {
   "cell_type": "markdown",
   "id": "591288de",
   "metadata": {
    "papermill": {
     "duration": 0.033366,
     "end_time": "2021-12-10T21:46:08.212784",
     "exception": false,
     "start_time": "2021-12-10T21:46:08.179418",
     "status": "completed"
    },
    "tags": []
   },
   "source": [
    "### 3.3. Loads through time\n",
    "\n",
    "The code below is taken from Section 3 of [notebook 3](http://nbviewer.jupyter.org/github/JamesSample/rid/blob/master/notebooks/estimate_loads.ipynb).\n",
    "\n",
    "Not necessary for OSPAR reporting, so commented out below."
   ]
  },
  {
   "cell_type": "code",
   "execution_count": 9,
   "id": "6bd5b22f",
   "metadata": {
    "execution": {
     "iopub.execute_input": "2021-12-10T21:46:08.282741Z",
     "iopub.status.busy": "2021-12-10T21:46:08.279625Z",
     "iopub.status.idle": "2021-12-10T21:46:08.286273Z",
     "shell.execute_reply": "2021-12-10T21:46:08.285687Z"
    },
    "papermill": {
     "duration": 0.042128,
     "end_time": "2021-12-10T21:46:08.286428",
     "exception": false,
     "start_time": "2021-12-10T21:46:08.244300",
     "status": "completed"
    },
    "tags": []
   },
   "outputs": [],
   "source": [
    "# %%capture\n",
    "\n",
    "# # Connect to db\n",
    "# engine = rid.connect_to_nivabase(user=user, pw=pw)\n",
    "\n",
    "# # Period of interest\n",
    "# st_yr, end_yr = 1990, year\n",
    "\n",
    "# # Container for results\n",
    "# loads_list = []\n",
    "\n",
    "# # Loop over sites\n",
    "# for stn_id in rid_155_df[\"station_id\"].values:\n",
    "#     # Loop over years\n",
    "#     for data_yr in range(st_yr, end_yr + 1):\n",
    "#         print(\"Processing Station ID %s for %s\" % (stn_id, data_yr))\n",
    "\n",
    "#         # Get loads\n",
    "#         l_df = rid.estimate_loads(stn_id, par_list, data_yr, engine, infer_missing=True)\n",
    "\n",
    "#         if l_df is not None:\n",
    "#             # Name and reset index\n",
    "#             l_df.index.name = \"station_id\"\n",
    "#             l_df.reset_index(inplace=True)\n",
    "\n",
    "#             # Add year\n",
    "#             l_df[\"year\"] = data_yr\n",
    "\n",
    "#             # Add to outout\n",
    "#             loads_list.append(l_df)\n",
    "\n",
    "# # Concatenate to new df\n",
    "# lds_ts = pd.concat(loads_list, axis=0)\n",
    "\n",
    "# # Join\n",
    "# lds_q_ts = pd.merge(lds_ts, rid_155_df, how=\"left\", on=\"station_id\")\n",
    "# lds_q_ts = pd.merge(lds_q_ts, q_df, how=\"left\", on=[\"station_id\", \"year\"])\n",
    "\n",
    "# # Reorder cols and tidy\n",
    "# st_cols = [\n",
    "#     \"station_id\",\n",
    "#     \"station_code\",\n",
    "#     \"station_name\",\n",
    "#     \"old_rid_group\",\n",
    "#     \"new_rid_group\",\n",
    "#     \"ospar_region\",\n",
    "#     \"mean_q_1000m3/day\",\n",
    "# ]\n",
    "# unwant_cols = [\n",
    "#     \"nve_vassdrag_nr\",\n",
    "#     \"lat\",\n",
    "#     \"lon\",\n",
    "#     \"utm_north\",\n",
    "#     \"utm_east\",\n",
    "#     \"utm_zone\",\n",
    "#     \"station_type\",\n",
    "# ]\n",
    "# par_cols = [i for i in lds_q_ts.columns if i not in (st_cols + unwant_cols)]\n",
    "\n",
    "# for col in unwant_cols:\n",
    "#     del lds_q_ts[col]\n",
    "\n",
    "# lds_q_ts = lds_q_ts[st_cols + par_cols]\n",
    "\n",
    "# # Save output\n",
    "# out_csv = f\"../../../Results/Loads_CSVs/loads_and_flows_rid_155_{st_yr}-{end_yr}.csv\"\n",
    "# lds_q_ts.to_csv(out_csv, encoding=\"utf-8\", index=False)\n",
    "\n",
    "# # Build multi-index on lds_ts for further processing\n",
    "# lds_ts.set_index([\"station_id\", \"year\"], inplace=True)"
   ]
  },
  {
   "cell_type": "code",
   "execution_count": 10,
   "id": "6a8d3f1e",
   "metadata": {
    "execution": {
     "iopub.execute_input": "2021-12-10T21:46:08.359414Z",
     "iopub.status.busy": "2021-12-10T21:46:08.358805Z",
     "iopub.status.idle": "2021-12-10T21:46:08.361818Z",
     "shell.execute_reply": "2021-12-10T21:46:08.362264Z"
    },
    "papermill": {
     "duration": 0.042401,
     "end_time": "2021-12-10T21:46:08.362472",
     "exception": false,
     "start_time": "2021-12-10T21:46:08.320071",
     "status": "completed"
    },
    "tags": []
   },
   "outputs": [],
   "source": [
    "# %%capture\n",
    "\n",
    "# # Output folder for plots\n",
    "# out_fold = f\"../../../Results/TS_Plots/RID_Plots_To_{year}\"\n",
    "# if os.path.isdir(out_fold) == False:\n",
    "#     os.mkdir(out_fold)\n",
    "\n",
    "# # Loop over df\n",
    "# for stn_id in rid_11_df[\"station_id\"].values:\n",
    "#     # Get data for this station\n",
    "#     df = lds_ts.loc[stn_id]\n",
    "\n",
    "#     # Separate est and val cols to two dfs\n",
    "#     cols = df.columns\n",
    "#     est_cols = [i for i in cols if i.split(\"_\")[1] == \"Est\"]\n",
    "#     val_cols = [i for i in cols if i.split(\"_\")[1] != \"Est\"]\n",
    "#     val_df = df[val_cols]\n",
    "#     est_df = df[est_cols]\n",
    "\n",
    "#     # Convert to \"long\" format\n",
    "#     val_df.reset_index(inplace=True)\n",
    "#     val_df = pd.melt(val_df, id_vars=\"year\", var_name=\"par_unit\")\n",
    "#     est_df.reset_index(inplace=True)\n",
    "#     est_df = pd.melt(est_df, id_vars=\"year\", var_name=\"par_est\", value_name=\"est\")\n",
    "\n",
    "#     # Get just par for joining\n",
    "#     val_df[\"par\"] = val_df[\"par_unit\"].str.split(\"_\", expand=True)[0]\n",
    "#     est_df[\"par\"] = est_df[\"par_est\"].str.split(\"_\", expand=True)[0]\n",
    "\n",
    "#     # Join\n",
    "#     df = pd.merge(val_df, est_df, how=\"left\", on=[\"year\", \"par\"])\n",
    "\n",
    "#     # Extract cols of interest\n",
    "#     df = df[[\"year\", \"par_unit\", \"value\", \"est\"]]\n",
    "\n",
    "#     # Plot\n",
    "#     g = sn.factorplot(\n",
    "#         x=\"year\",\n",
    "#         y=\"value\",\n",
    "#         hue=\"est\",\n",
    "#         col=\"par_unit\",\n",
    "#         col_wrap=3,\n",
    "#         data=df,\n",
    "#         kind=\"bar\",\n",
    "#         dodge=False,\n",
    "#         sharex=False,\n",
    "#         sharey=False,\n",
    "#         alpha=0.5,\n",
    "#         aspect=2,\n",
    "#         legend=False,\n",
    "#     )\n",
    "\n",
    "#     # Rotate tick labels and tidy\n",
    "#     for ax in g.axes.flatten():\n",
    "#         for tick in ax.get_xticklabels():\n",
    "#             tick.set(rotation=45)\n",
    "#     plt.tight_layout()\n",
    "\n",
    "#     # Save\n",
    "#     out_path = os.path.join(out_fold, f\"{stn_id}.png\")\n",
    "#     plt.savefig(out_path, dpi=200)\n",
    "#     plt.close()"
   ]
  },
  {
   "cell_type": "markdown",
   "id": "c492bb85",
   "metadata": {
    "papermill": {
     "duration": 0.030818,
     "end_time": "2021-12-10T21:46:08.424972",
     "exception": false,
     "start_time": "2021-12-10T21:46:08.394154",
     "status": "completed"
    },
    "tags": []
   },
   "source": [
    "## 4. Generate output tables for Word\n",
    "\n",
    "Not necessary for OSPAR reporting, so commented out below.\n",
    "\n",
    "### 4.1. Table 1: Raw water chemistry\n",
    "\n",
    "The code below is based on Section 2 of [notebook 5](http://nbviewer.jupyter.org/github/JamesSample/rid/blob/master/notebooks/word_data_tables.ipynb)."
   ]
  },
  {
   "cell_type": "code",
   "execution_count": 11,
   "id": "12a72ed1",
   "metadata": {
    "execution": {
     "iopub.execute_input": "2021-12-10T21:46:08.497032Z",
     "iopub.status.busy": "2021-12-10T21:46:08.496434Z",
     "iopub.status.idle": "2021-12-10T21:46:08.499300Z",
     "shell.execute_reply": "2021-12-10T21:46:08.498690Z"
    },
    "papermill": {
     "duration": 0.040874,
     "end_time": "2021-12-10T21:46:08.499475",
     "exception": false,
     "start_time": "2021-12-10T21:46:08.458601",
     "status": "completed"
    },
    "tags": []
   },
   "outputs": [],
   "source": [
    "# engine = rid.connect_to_nivabase(user=user, pw=pw)\n",
    "# tab_path = rid.copy_word_template(1, year)\n",
    "# rid.write_word_water_chem_tables(rid_47_df, year, tab_path, engine)"
   ]
  },
  {
   "cell_type": "markdown",
   "id": "d66eb1f4",
   "metadata": {
    "papermill": {
     "duration": 0.03013,
     "end_time": "2021-12-10T21:46:08.558696",
     "exception": false,
     "start_time": "2021-12-10T21:46:08.528566",
     "status": "completed"
    },
    "tags": []
   },
   "source": [
    "### 4.2. Table 2: Estimated loads at each site\n",
    "\n",
    "The code below is based on Section 3 of [notebook 5](http://nbviewer.jupyter.org/github/JamesSample/rid/blob/master/notebooks/word_data_tables.ipynb)."
   ]
  },
  {
   "cell_type": "code",
   "execution_count": 12,
   "id": "feb8f904",
   "metadata": {
    "execution": {
     "iopub.execute_input": "2021-12-10T21:46:08.633725Z",
     "iopub.status.busy": "2021-12-10T21:46:08.632992Z",
     "iopub.status.idle": "2021-12-10T21:46:08.635828Z",
     "shell.execute_reply": "2021-12-10T21:46:08.636235Z"
    },
    "papermill": {
     "duration": 0.044501,
     "end_time": "2021-12-10T21:46:08.636426",
     "exception": false,
     "start_time": "2021-12-10T21:46:08.591925",
     "status": "completed"
    },
    "tags": []
   },
   "outputs": [],
   "source": [
    "# engine = rid.connect_to_nivabase(user=user, pw=pw)\n",
    "# tab_path = rid.copy_word_template(2, year)\n",
    "# loads_csv = f\"../../../Results/Loads_CSVs/loads_and_flows_all_sites_{year}.csv\"\n",
    "# rid.write_word_loads_table(rid_155_df, loads_csv, tab_path, engine)"
   ]
  }
 ],
 "metadata": {
  "kernelspec": {
   "display_name": "Python 3 (ipykernel)",
   "language": "python",
   "name": "python3"
  },
  "language_info": {
   "codemirror_mode": {
    "name": "ipython",
    "version": 3
   },
   "file_extension": ".py",
   "mimetype": "text/x-python",
   "name": "python",
   "nbconvert_exporter": "python",
   "pygments_lexer": "ipython3",
   "version": "3.9.7"
  },
  "papermill": {
   "default_parameters": {},
   "duration": 297.188871,
   "end_time": "2021-12-10T21:46:09.843384",
   "environment_variables": {},
   "exception": null,
   "input_path": "02_loads_monitored_regions_1990-2016_parameterised.ipynb",
   "output_path": "./recalculate_1990-2016/monitored_regions/loads_monitored_regions_2020.ipynb",
   "parameters": {
    "pw": "BeakabusNov21..",
    "user": "jes",
    "year": 2020
   },
   "start_time": "2021-12-10T21:41:12.654513",
   "version": "2.3.3"
  }
 },
 "nbformat": 4,
 "nbformat_minor": 5
}