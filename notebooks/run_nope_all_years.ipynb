{
 "cells": [
  {
   "cell_type": "code",
   "execution_count": 3,
   "metadata": {},
   "outputs": [],
   "source": [
    "%matplotlib inline\n",
    "import nope\n",
    "import pandas as pd\n",
    "import os\n",
    "import nivapy3 as nivapy"
   ]
  },
  {
   "cell_type": "code",
   "execution_count": 4,
   "metadata": {},
   "outputs": [
    {
     "name": "stdin",
     "output_type": "stream",
     "text": [
      "Username:  ···\n",
      "Password:  ········\n"
     ]
    },
    {
     "name": "stdout",
     "output_type": "stream",
     "text": [
      "Connection successful.\n"
     ]
    }
   ],
   "source": [
    "# Connect to db\n",
    "eng = nivapy.da.connect()"
   ]
  },
  {
   "cell_type": "markdown",
   "metadata": {},
   "source": [
    "# Run NOPE for all years"
   ]
  },
  {
   "cell_type": "code",
   "execution_count": 5,
   "metadata": {},
   "outputs": [],
   "source": [
    "# Years of interest\n",
    "st_yr = 1990\n",
    "end_yr = 2018\n",
    "\n",
    "# Parameters of interest\n",
    "par_list = ['Tot-N', 'Tot-P']\n",
    "\n",
    "# Folder containing core NOPE data\n",
    "nope_fold = r'../../../NOPE/NOPE_Core_Input_Data'\n",
    "\n",
    "# Folder containing annual NOPE inouts\n",
    "inputs_fold = r'../../../NOPE/NOPE_Annual_Inputs'\n",
    "\n",
    "# Folder for output files\n",
    "outputs_fold = r'../../../NOPE/NOPE_Annual_Outputs'"
   ]
  },
  {
   "cell_type": "code",
   "execution_count": 7,
   "metadata": {},
   "outputs": [
    {
     "name": "stdout",
     "output_type": "stream",
     "text": [
      "Processing: 1990\n",
      "No spredt data for 1990.\n",
      "No renseanlegg data for 1990.\n",
      "Processing: 1991\n",
      "No spredt data for 1991.\n",
      "No aquaculture data for 1991.\n",
      "No renseanlegg data for 1991.\n",
      "Processing: 1992\n",
      "No spredt data for 1992.\n",
      "No renseanlegg data for 1992.\n"
     ]
    },
    {
     "name": "stderr",
     "output_type": "stream",
     "text": [
      "/opt/conda/lib/python3.7/site-packages/pandas/core/frame.py:4259: SettingWithCopyWarning: \n",
      "A value is trying to be set on a copy of a slice from a DataFrame\n",
      "\n",
      "See the caveats in the documentation: http://pandas.pydata.org/pandas-docs/stable/user_guide/indexing.html#returning-a-view-versus-a-copy\n",
      "  **kwargs\n"
     ]
    },
    {
     "name": "stdout",
     "output_type": "stream",
     "text": [
      "Processing: 1993\n",
      "Processing: 1994\n",
      "Processing: 1995\n",
      "Processing: 1996\n",
      "Processing: 1997\n",
      "Processing: 1998\n",
      "Processing: 1999\n",
      "Processing: 2000\n",
      "Processing: 2001\n",
      "Processing: 2002\n",
      "Processing: 2003\n",
      "Processing: 2004\n",
      "Processing: 2005\n",
      "Processing: 2006\n",
      "Processing: 2007\n",
      "Processing: 2008\n",
      "Processing: 2009\n",
      "Processing: 2010\n",
      "Processing: 2011\n",
      "Processing: 2012\n",
      "Processing: 2013\n",
      "Processing: 2014\n",
      "Processing: 2015\n",
      "Processing: 2016\n",
      "Processing: 2017\n",
      "Processing: 2018\n"
     ]
    }
   ],
   "source": [
    "for year in range(st_yr, end_yr + 1):\n",
    "    print('Processing:', year)\n",
    "    \n",
    "    # Make input file\n",
    "    csv_path  = os.path.join(inputs_fold, f'nope_input_data_{year}.csv')\n",
    "    df = nope.make_rid_input_file(year, \n",
    "                                  eng, \n",
    "                                  nope_fold, \n",
    "                                  csv_path,\n",
    "                                  par_list=par_list,\n",
    "                                 )\n",
    "    \n",
    "    # Run model\n",
    "    g = nope.run_nope(csv_path, par_list)\n",
    "    \n",
    "    # Save results as csv\n",
    "    out_csv = os.path.join(outputs_fold, 'nope_results_%s.csv' % year)\n",
    "    df = nope.model_to_dataframe(g, out_path=out_csv)"
   ]
  }
 ],
 "metadata": {
  "kernelspec": {
   "display_name": "Python 3",
   "language": "python",
   "name": "python3"
  },
  "language_info": {
   "codemirror_mode": {
    "name": "ipython",
    "version": 3
   },
   "file_extension": ".py",
   "mimetype": "text/x-python",
   "name": "python",
   "nbconvert_exporter": "python",
   "pygments_lexer": "ipython3",
   "version": "3.7.3"
  }
 },
 "nbformat": 4,
 "nbformat_minor": 4
}
