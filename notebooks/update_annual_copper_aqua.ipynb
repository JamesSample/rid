{
 "cells": [
  {
   "cell_type": "code",
   "execution_count": 1,
   "id": "d4617a33-0155-4a50-8667-93aa2cedc4b9",
   "metadata": {},
   "outputs": [],
   "source": [
    "import matplotlib.pyplot as plt\n",
    "import nivapy3 as nivapy\n",
    "import pandas as pd\n",
    "import seaborn as sn\n",
    "\n",
    "plt.style.use(\"ggplot\")"
   ]
  },
  {
   "cell_type": "markdown",
   "id": "0ec0b7a2-f8f6-4b98-aaf6-56c47f0b894c",
   "metadata": {},
   "source": [
    "# Update annual copper from Aquaculture\n",
    "\n",
    "Each year, we receive national figures for the amount of copper used by the aquaculture industry to treat nets etc. However, in recent years, we have reused figures from previous years as the correct annual figure was not available in time for the analysis.\n",
    "\n",
    "This notebook updates the database to use the \"official\" figures for 2016 to 2020."
   ]
  },
  {
   "cell_type": "code",
   "execution_count": 2,
   "id": "bf5e9d5d-ceb9-49d0-8585-7ba802708b70",
   "metadata": {},
   "outputs": [
    {
     "name": "stdin",
     "output_type": "stream",
     "text": [
      "Username:  ···\n",
      "Password:  ···············\n"
     ]
    },
    {
     "name": "stdout",
     "output_type": "stream",
     "text": [
      "Connection successful.\n"
     ]
    }
   ],
   "source": [
    "eng = nivapy.da.connect()"
   ]
  },
  {
   "cell_type": "code",
   "execution_count": 3,
   "id": "c8439258-9039-48ff-a34c-24ff0d8765e2",
   "metadata": {},
   "outputs": [
    {
     "data": {
      "text/html": [
       "<div>\n",
       "<style scoped>\n",
       "    .dataframe tbody tr th:only-of-type {\n",
       "        vertical-align: middle;\n",
       "    }\n",
       "\n",
       "    .dataframe tbody tr th {\n",
       "        vertical-align: top;\n",
       "    }\n",
       "\n",
       "    .dataframe thead th {\n",
       "        text-align: right;\n",
       "    }\n",
       "</style>\n",
       "<table border=\"1\" class=\"dataframe\">\n",
       "  <thead>\n",
       "    <tr style=\"text-align: right;\">\n",
       "      <th></th>\n",
       "      <th>year</th>\n",
       "      <th>tot_cu_tonnes</th>\n",
       "    </tr>\n",
       "  </thead>\n",
       "  <tbody>\n",
       "    <tr>\n",
       "      <th>26</th>\n",
       "      <td>2016</td>\n",
       "      <td>1335</td>\n",
       "    </tr>\n",
       "    <tr>\n",
       "      <th>27</th>\n",
       "      <td>2017</td>\n",
       "      <td>1432</td>\n",
       "    </tr>\n",
       "    <tr>\n",
       "      <th>28</th>\n",
       "      <td>2018</td>\n",
       "      <td>1626</td>\n",
       "    </tr>\n",
       "    <tr>\n",
       "      <th>29</th>\n",
       "      <td>2019</td>\n",
       "      <td>1698</td>\n",
       "    </tr>\n",
       "    <tr>\n",
       "      <th>30</th>\n",
       "      <td>2020</td>\n",
       "      <td>1539</td>\n",
       "    </tr>\n",
       "  </tbody>\n",
       "</table>\n",
       "</div>"
      ],
      "text/plain": [
       "    year  tot_cu_tonnes\n",
       "26  2016           1335\n",
       "27  2017           1432\n",
       "28  2018           1626\n",
       "29  2019           1698\n",
       "30  2020           1539"
      ]
     },
     "execution_count": 3,
     "metadata": {},
     "output_type": "execute_result"
    }
   ],
   "source": [
    "xl_path = r\"../../../Data/annual_copper_usage_aquaculture.xlsx\"\n",
    "ann_cu_df = pd.read_excel(xl_path, sheet_name=\"Sheet1\")\n",
    "ann_cu_df = ann_cu_df.query(\"year >= 2016\")\n",
    "ann_cu_df.head()"
   ]
  },
  {
   "cell_type": "code",
   "execution_count": 4,
   "id": "099fb84a-f84e-4c01-85c3-1f4ca20c5c73",
   "metadata": {},
   "outputs": [
    {
     "name": "stdout",
     "output_type": "stream",
     "text": [
      "1134 1134\n",
      "1217 1217\n",
      "1382 1382\n",
      "1443 1443\n",
      "1308 1308\n"
     ]
    },
    {
     "data": {
      "text/html": [
       "<div>\n",
       "<style scoped>\n",
       "    .dataframe tbody tr th:only-of-type {\n",
       "        vertical-align: middle;\n",
       "    }\n",
       "\n",
       "    .dataframe tbody tr th {\n",
       "        vertical-align: top;\n",
       "    }\n",
       "\n",
       "    .dataframe thead th {\n",
       "        text-align: right;\n",
       "    }\n",
       "</style>\n",
       "<table border=\"1\" class=\"dataframe\">\n",
       "  <thead>\n",
       "    <tr style=\"text-align: right;\">\n",
       "      <th></th>\n",
       "      <th>anlegg_nr</th>\n",
       "      <th>inp_par_id</th>\n",
       "      <th>ar</th>\n",
       "      <th>maned</th>\n",
       "      <th>art</th>\n",
       "      <th>value</th>\n",
       "    </tr>\n",
       "  </thead>\n",
       "  <tbody>\n",
       "    <tr>\n",
       "      <th>0</th>\n",
       "      <td>36099</td>\n",
       "      <td>41</td>\n",
       "      <td>2016</td>\n",
       "      <td>6</td>\n",
       "      <td>None</td>\n",
       "      <td>0.237773</td>\n",
       "    </tr>\n",
       "    <tr>\n",
       "      <th>1</th>\n",
       "      <td>36100</td>\n",
       "      <td>41</td>\n",
       "      <td>2016</td>\n",
       "      <td>6</td>\n",
       "      <td>None</td>\n",
       "      <td>0.464830</td>\n",
       "    </tr>\n",
       "    <tr>\n",
       "      <th>2</th>\n",
       "      <td>36117</td>\n",
       "      <td>41</td>\n",
       "      <td>2016</td>\n",
       "      <td>6</td>\n",
       "      <td>None</td>\n",
       "      <td>0.591945</td>\n",
       "    </tr>\n",
       "    <tr>\n",
       "      <th>3</th>\n",
       "      <td>36118</td>\n",
       "      <td>41</td>\n",
       "      <td>2016</td>\n",
       "      <td>6</td>\n",
       "      <td>None</td>\n",
       "      <td>0.171812</td>\n",
       "    </tr>\n",
       "    <tr>\n",
       "      <th>4</th>\n",
       "      <td>36177</td>\n",
       "      <td>41</td>\n",
       "      <td>2016</td>\n",
       "      <td>6</td>\n",
       "      <td>None</td>\n",
       "      <td>0.425229</td>\n",
       "    </tr>\n",
       "  </tbody>\n",
       "</table>\n",
       "</div>"
      ],
      "text/plain": [
       "   anlegg_nr  inp_par_id    ar  maned   art     value\n",
       "0      36099          41  2016      6  None  0.237773\n",
       "1      36100          41  2016      6  None  0.464830\n",
       "2      36117          41  2016      6  None  0.591945\n",
       "3      36118          41  2016      6  None  0.171812\n",
       "4      36177          41  2016      6  None  0.425229"
      ]
     },
     "execution_count": 4,
     "metadata": {},
     "output_type": "execute_result"
    }
   ],
   "source": [
    "df_list = []\n",
    "for idx, row in ann_cu_df.iterrows():\n",
    "    year = row[\"year\"]\n",
    "    cu_loss = 0.85 * row[\"tot_cu_tonnes\"]\n",
    "\n",
    "    sql = (\n",
    "        \"SELECT * FROM resa2.rid_kilder_aqkult_values \"\n",
    "        \"WHERE ar = %s\"\n",
    "        \"AND inp_par_id = 40\" % year\n",
    "    )\n",
    "    p_df = pd.read_sql(sql, eng)\n",
    "\n",
    "    p_df[\"value\"] = cu_loss * p_df[\"value\"] / p_df[\"value\"].sum()\n",
    "    p_df[\"inp_par_id\"] = 41\n",
    "    del p_df[\"value_id\"]\n",
    "\n",
    "    df_list.append(p_df)\n",
    "\n",
    "    print(int(p_df[\"value\"].sum()), int(cu_loss))\n",
    "\n",
    "df = pd.concat(df_list)\n",
    "\n",
    "df.head()"
   ]
  },
  {
   "cell_type": "code",
   "execution_count": 5,
   "id": "34aa40fd-b4e0-4931-96b0-e313d7b037db",
   "metadata": {},
   "outputs": [],
   "source": [
    "# df.to_sql(\n",
    "#     \"rid_kilder_aqkult_values\",\n",
    "#     con=eng,\n",
    "#     schema=\"resa2\",\n",
    "#     if_exists=\"append\",\n",
    "#     index=False,\n",
    "# )"
   ]
  }
 ],
 "metadata": {
  "kernelspec": {
   "display_name": "Python 3 (ipykernel)",
   "language": "python",
   "name": "python3"
  },
  "language_info": {
   "codemirror_mode": {
    "name": "ipython",
    "version": 3
   },
   "file_extension": ".py",
   "mimetype": "text/x-python",
   "name": "python",
   "nbconvert_exporter": "python",
   "pygments_lexer": "ipython3",
   "version": "3.9.7"
  }
 },
 "nbformat": 4,
 "nbformat_minor": 5
}
