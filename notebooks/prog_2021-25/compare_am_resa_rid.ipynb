{
 "cells": [
  {
   "cell_type": "code",
   "execution_count": 1,
   "id": "b002a1c3-e387-4a25-85c3-5ec07ba326aa",
   "metadata": {},
   "outputs": [],
   "source": [
    "import matplotlib.pyplot as plt\n",
    "import nivapy3 as nivapy\n",
    "import numpy as np\n",
    "import pandas as pd\n",
    "from sqlalchemy.sql import text\n",
    "from tqdm.notebook import tqdm\n",
    "\n",
    "plt.style.use(\"ggplot\")"
   ]
  },
  {
   "cell_type": "code",
   "execution_count": 2,
   "id": "de7b93ac-b30b-40b0-928b-5b35c3d3b034",
   "metadata": {},
   "outputs": [
    {
     "name": "stdin",
     "output_type": "stream",
     "text": [
      "Username:  ········\n",
      "Password:  ········\n"
     ]
    },
    {
     "name": "stdout",
     "output_type": "stream",
     "text": [
      "Connection successful.\n"
     ]
    }
   ],
   "source": [
    "eng = nivapy.da.connect()"
   ]
  },
  {
   "cell_type": "markdown",
   "id": "b757dc9b-7531-40e7-9dfc-dc9d1b110eef",
   "metadata": {},
   "source": [
    "# Compare values in RESA with those in AM\n",
    "\n",
    "And update RESA to match AM where differences are found.\n",
    "\n",
    "Used for both the \"main\" programme and the Bk-stations.\n",
    "\n",
    " * **Bk-stations:** Project 4591 in RESA; 12565 in AM\n",
    " * **Main rivers:** Project 4551 in RESA; 12564 in AM"
   ]
  },
  {
   "cell_type": "code",
   "execution_count": 3,
   "id": "6a1af1a8-27ac-4a1e-8c47-30af8b3fab9e",
   "metadata": {},
   "outputs": [],
   "source": [
    "# Set year and project IDs\n",
    "year = 2021\n",
    "resa_proj_id = 4551\n",
    "am_proj_id = 12564\n",
    "\n",
    "# Where to ignore sample time components. Can be useful, but use with caution -\n",
    "# could cause issues if there are ever two genuine samples from the same location\n",
    "# on the same day\n",
    "ignore_times = False"
   ]
  },
  {
   "cell_type": "code",
   "execution_count": 4,
   "id": "07da85d9-4eca-4683-ba43-6cbfb9844346",
   "metadata": {},
   "outputs": [],
   "source": [
    "def extract_flags(value):\n",
    "    if value.startswith(\"<\"):\n",
    "        return \"<\"\n",
    "    elif value.startswith(\">\"):\n",
    "        return \">\"\n",
    "    else:\n",
    "        return np.nan"
   ]
  },
  {
   "cell_type": "code",
   "execution_count": 5,
   "id": "a96aa6c3-1963-4f2e-88e7-b7ccd4181419",
   "metadata": {},
   "outputs": [],
   "source": [
    "# Pars to consider\n",
    "# NOTE: This notebook ONLY checks the parameters in the dict below.\n",
    "# Add rows to this dict mapping AM parameter names to RESA parameters names\n",
    "# to inlcude more parameters\n",
    "all_pars_dict = {\n",
    "    \"Ag_µg/L\": \"Ag_µg/l\",\n",
    "    \"Alk_4.5_mmol/l\": \"ALK_mmol/l\",\n",
    "    \"As_µg/l\": \"As_µg/l\",\n",
    "    \"As-filt_µg/l\": \"As (filtrert)_µg/l\",\n",
    "    \"Ca_mg/L\": \"Ca_mg/l\",\n",
    "    \"Cd-filt_µg/l\": \"Cd (filtrert)_µg/l\",\n",
    "    \"Cd_µg/l\": \"Cd_µg/l\",\n",
    "    \"Cl_mg/L\": \"Cl_mg/l\",\n",
    "    \"Cr_µg/l\": \"Cr_µg/l\",\n",
    "    \"Cr-filt_µg/l\": \"Cr (filtrert)_µg/l\",\n",
    "    \"Cu_µg/L\": \"Cu_µg/l\",\n",
    "    \"Cu-filt_µg/l\": \"Cu (filtrert)_µg/l\",\n",
    "    \"DOC_mg/L C\": \"DOC_mg/L C\",\n",
    "    \"Farge_mg Pt/l\": \"FARGE_mg Pt/l\",\n",
    "    \"Hg-filt_ng/l\": \"Hg (filtrert)_ng/l\",\n",
    "    \"Hg_ng/l\": \"Hg_ng/l\",\n",
    "    \"K_mg/L\": \"K_mg/l\",\n",
    "    \"Konduktivitet_mS/m\": \"KOND_mS/m\",\n",
    "    \"Mg_mg/L\": \"Mg_mg/l\",\n",
    "    \"NH4-N_µg/l\": \"NH4-N_µg/l N\",\n",
    "    \"NO3-N_µg/l\": \"NO3-N_µg/l N\",\n",
    "    \"Na_mg/L\": \"Na_mg/l\",\n",
    "    \"Ni-filt_µg/l\": \"Ni (filtrert)_µg/l\",\n",
    "    \"Ni_µg/L\": \"Ni_µg/l\",\n",
    "    \"Nitrogen part_µg/l N\": \"Tot. Part. N_µg/l N\",\n",
    "    \"PO4-P_µg/l\": \"PO4-P_µg/l P\",\n",
    "    \"POC_µg/l C\": \"Part. C_µg/l C\",\n",
    "    \"Pb-filt_µg/l\": \"Pb (filtrert)_µg/l\",\n",
    "    \"Pb_µg/L\": \"Pb_µg/l\",\n",
    "    \"SO4_mg/L\": \"SO4_mg/l\",\n",
    "    \"STS_mg/l\": \"STS_mg/l\",\n",
    "    \"SiO2_mg/l\": \"SiO2_mg SiO2/l\",\n",
    "    \"Si_mg/l\": \"Si_mg/l\",\n",
    "    \"TOC_mg/l\": \"TOC_mg C/l\",\n",
    "    \"TOTN_µg/l\": \"TOTN_µg/l N\",\n",
    "    \"TOTP_P_µg/l P\": \"TOTP/P_µg/l\",\n",
    "    \"TOTP_µg/l\": \"TOTP_µg/l P\",\n",
    "    \"TSM_mg/l\": \"SPM_mg/l\",\n",
    "    \"Temperatur_C\": \"Temp_oC\",\n",
    "    \"Turbiditet_FNU\": \"TURB860_FNU\",\n",
    "    \"Zn_µg/l\": \"Zn_µg/l\",\n",
    "    \"pH_\": \"pH_\",\n",
    "}"
   ]
  },
  {
   "cell_type": "code",
   "execution_count": 6,
   "id": "aa32d332-1ac7-4c7e-ad64-96cc8c4c84da",
   "metadata": {},
   "outputs": [
    {
     "name": "stdout",
     "output_type": "stream",
     "text": [
      "40 parameters available for the selected stations and dates.\n",
      "WARNING\n",
      "The database contains unexpected duplicate values for some station-date-parameter combinations.\n",
      "Only the most recent values will be used, but you should check the repeated values are not errors.\n",
      "The duplicated entries are returned in a separate dataframe.\n",
      "\n"
     ]
    }
   ],
   "source": [
    "# Get data from RESA\n",
    "resa_stn_df = nivapy.da.select_resa_project_stations([resa_proj_id], eng)\n",
    "resa_par_df = nivapy.da.select_resa_station_parameters(\n",
    "    resa_stn_df, f\"{year}-01-01\", f\"{year}-12-31\", eng\n",
    ")\n",
    "resa_wc_df, resa_dup_df = nivapy.da.select_resa_water_chemistry(\n",
    "    resa_stn_df,\n",
    "    resa_par_df,\n",
    "    f\"{year}-01-01\",\n",
    "    f\"{year}-12-31\",\n",
    "    eng,\n",
    "    lod_flags=True,\n",
    "    drop_dups=True,\n",
    ")\n",
    "\n",
    "# Convert to long\n",
    "id_vars = [\n",
    "    \"station_id\",\n",
    "    \"station_code\",\n",
    "    \"station_name\",\n",
    "    \"sample_date\",\n",
    "    \"depth1\",\n",
    "    \"depth2\",\n",
    "]\n",
    "resa_wc_df = resa_wc_df.melt(id_vars=id_vars, value_name=\"resa_value\")\n",
    "resa_wc_df.dropna(subset=\"resa_value\", inplace=True)\n",
    "\n",
    "# Extract flags\n",
    "resa_wc_df[\"flag1\"] = resa_wc_df[\"resa_value\"].apply(extract_flags)\n",
    "resa_wc_df[\"resa_value\"] = (\n",
    "    resa_wc_df[\"resa_value\"].str.replace(\"<\", \"\").replace(\">\", \"\").astype(float)\n",
    ")\n",
    "\n",
    "# Ignore time component?\n",
    "if ignore_times:\n",
    "    resa_wc_df[\"sample_date\"] = resa_wc_df[\"sample_date\"].dt.date"
   ]
  },
  {
   "cell_type": "code",
   "execution_count": 7,
   "id": "0af7db40-f508-4cd2-967e-4917d5110813",
   "metadata": {},
   "outputs": [
    {
     "name": "stdout",
     "output_type": "stream",
     "text": [
      "73 parameters available for the selected stations and dates.\n"
     ]
    }
   ],
   "source": [
    "# Get data from AM\n",
    "am_stn_df = nivapy.da.select_ndb_project_stations([am_proj_id], eng)\n",
    "am_par_df = nivapy.da.select_ndb_station_parameters(\n",
    "    am_stn_df, f\"{year}-01-01\", f\"{year}-12-31\", eng\n",
    ")\n",
    "am_wc_df, am_dup_df = nivapy.da.select_ndb_water_chemistry(\n",
    "    am_stn_df,\n",
    "    am_par_df,\n",
    "    f\"{year}-01-01\",\n",
    "    f\"{year}-12-31\",\n",
    "    eng,\n",
    "    lod_flags=True,\n",
    "    drop_dups=True,\n",
    ")\n",
    "\n",
    "# Rename to match RESA\n",
    "am_wc_df.rename(\n",
    "    all_pars_dict,\n",
    "    axis=\"columns\",\n",
    "    inplace=True,\n",
    ")\n",
    "\n",
    "# Convert to long\n",
    "id_vars = [\n",
    "    \"station_id\",\n",
    "    \"station_code\",\n",
    "    \"station_name\",\n",
    "    \"sample_date\",\n",
    "    \"depth1\",\n",
    "    \"depth2\",\n",
    "]\n",
    "am_wc_df = am_wc_df.melt(id_vars=id_vars, value_name=\"am_value\")\n",
    "am_wc_df.dropna(subset=\"am_value\", inplace=True)\n",
    "\n",
    "# Extract flags\n",
    "am_wc_df[\"flag1\"] = am_wc_df[\"am_value\"].apply(extract_flags)\n",
    "am_wc_df[\"am_value\"] = (\n",
    "    am_wc_df[\"am_value\"].str.replace(\"<\", \"\").replace(\">\", \"\").astype(float)\n",
    ")\n",
    "\n",
    "# Ignore time component?\n",
    "if ignore_times:\n",
    "    am_wc_df[\"sample_date\"] = am_wc_df[\"sample_date\"].dt.date"
   ]
  },
  {
   "cell_type": "code",
   "execution_count": 8,
   "id": "070520e8-8085-437c-88c7-cee4a9576d94",
   "metadata": {},
   "outputs": [
    {
     "data": {
      "text/plain": [
       "20"
      ]
     },
     "execution_count": 8,
     "metadata": {},
     "output_type": "execute_result"
    }
   ],
   "source": [
    "# Link stations in AM and RESA\n",
    "bind_pars = \",\".join(\"%d\" % i for i in am_wc_df[\"station_id\"].unique())\n",
    "sql = text(\n",
    "    \"SELECT station_id as am_station_id, \"\n",
    "    \"  local_pk as resa_station_id \"\n",
    "    \"FROM nivadatabase.datasource_station \"\n",
    "    \"WHERE datasource_id = 11 \"\n",
    "    \"AND station_id IN (%s)\" % bind_pars\n",
    ")\n",
    "link_df = pd.read_sql(sql, eng)\n",
    "len(link_df)"
   ]
  },
  {
   "cell_type": "code",
   "execution_count": 9,
   "id": "4234d177-cf79-4207-8c5e-f69f1c2a301b",
   "metadata": {},
   "outputs": [
    {
     "name": "stdout",
     "output_type": "stream",
     "text": [
      "7100 values in this project and period.\n",
      "7099 values are idenitcal.\n",
      "1 values in RESA cannot be identified in AM.\n",
      "0 values in AM are different to those in RESA.\n"
     ]
    },
    {
     "data": {
      "text/html": [
       "<div>\n",
       "<style scoped>\n",
       "    .dataframe tbody tr th:only-of-type {\n",
       "        vertical-align: middle;\n",
       "    }\n",
       "\n",
       "    .dataframe tbody tr th {\n",
       "        vertical-align: top;\n",
       "    }\n",
       "\n",
       "    .dataframe thead th {\n",
       "        text-align: right;\n",
       "    }\n",
       "</style>\n",
       "<table border=\"1\" class=\"dataframe\">\n",
       "  <thead>\n",
       "    <tr style=\"text-align: right;\">\n",
       "      <th></th>\n",
       "      <th>station_id_resa</th>\n",
       "      <th>station_code_resa</th>\n",
       "      <th>station_name_resa</th>\n",
       "      <th>sample_date</th>\n",
       "      <th>depth1</th>\n",
       "      <th>depth2</th>\n",
       "      <th>variable</th>\n",
       "      <th>resa_value</th>\n",
       "      <th>flag1_resa</th>\n",
       "      <th>am_station_id</th>\n",
       "      <th>resa_station_id</th>\n",
       "      <th>station_id_am</th>\n",
       "      <th>station_code_am</th>\n",
       "      <th>station_name_am</th>\n",
       "      <th>am_value</th>\n",
       "      <th>flag1_am</th>\n",
       "    </tr>\n",
       "  </thead>\n",
       "  <tbody>\n",
       "    <tr>\n",
       "      <th>0</th>\n",
       "      <td>29612</td>\n",
       "      <td>BUSEDRA</td>\n",
       "      <td>Drammenselva</td>\n",
       "      <td>2021-01-21 10:30:00</td>\n",
       "      <td>0</td>\n",
       "      <td>0</td>\n",
       "      <td>ALK_mmol/l</td>\n",
       "      <td>0.205</td>\n",
       "      <td>NaN</td>\n",
       "      <td>40352</td>\n",
       "      <td>29612</td>\n",
       "      <td>40352.0</td>\n",
       "      <td>DRA1</td>\n",
       "      <td>Drammenselva v/Krokstadelva</td>\n",
       "      <td>0.205</td>\n",
       "      <td>NaN</td>\n",
       "    </tr>\n",
       "    <tr>\n",
       "      <th>1</th>\n",
       "      <td>29612</td>\n",
       "      <td>BUSEDRA</td>\n",
       "      <td>Drammenselva</td>\n",
       "      <td>2021-02-02 15:00:00</td>\n",
       "      <td>0</td>\n",
       "      <td>0</td>\n",
       "      <td>ALK_mmol/l</td>\n",
       "      <td>0.219</td>\n",
       "      <td>NaN</td>\n",
       "      <td>40352</td>\n",
       "      <td>29612</td>\n",
       "      <td>40352.0</td>\n",
       "      <td>DRA1</td>\n",
       "      <td>Drammenselva v/Krokstadelva</td>\n",
       "      <td>0.219</td>\n",
       "      <td>NaN</td>\n",
       "    </tr>\n",
       "    <tr>\n",
       "      <th>2</th>\n",
       "      <td>29612</td>\n",
       "      <td>BUSEDRA</td>\n",
       "      <td>Drammenselva</td>\n",
       "      <td>2021-03-02 08:30:00</td>\n",
       "      <td>0</td>\n",
       "      <td>0</td>\n",
       "      <td>ALK_mmol/l</td>\n",
       "      <td>0.237</td>\n",
       "      <td>NaN</td>\n",
       "      <td>40352</td>\n",
       "      <td>29612</td>\n",
       "      <td>40352.0</td>\n",
       "      <td>DRA1</td>\n",
       "      <td>Drammenselva v/Krokstadelva</td>\n",
       "      <td>0.237</td>\n",
       "      <td>NaN</td>\n",
       "    </tr>\n",
       "    <tr>\n",
       "      <th>3</th>\n",
       "      <td>29612</td>\n",
       "      <td>BUSEDRA</td>\n",
       "      <td>Drammenselva</td>\n",
       "      <td>2021-04-06 11:30:00</td>\n",
       "      <td>0</td>\n",
       "      <td>0</td>\n",
       "      <td>ALK_mmol/l</td>\n",
       "      <td>0.209</td>\n",
       "      <td>NaN</td>\n",
       "      <td>40352</td>\n",
       "      <td>29612</td>\n",
       "      <td>40352.0</td>\n",
       "      <td>DRA1</td>\n",
       "      <td>Drammenselva v/Krokstadelva</td>\n",
       "      <td>0.209</td>\n",
       "      <td>NaN</td>\n",
       "    </tr>\n",
       "    <tr>\n",
       "      <th>4</th>\n",
       "      <td>29612</td>\n",
       "      <td>BUSEDRA</td>\n",
       "      <td>Drammenselva</td>\n",
       "      <td>2021-05-03 09:00:00</td>\n",
       "      <td>0</td>\n",
       "      <td>0</td>\n",
       "      <td>ALK_mmol/l</td>\n",
       "      <td>0.181</td>\n",
       "      <td>NaN</td>\n",
       "      <td>40352</td>\n",
       "      <td>29612</td>\n",
       "      <td>40352.0</td>\n",
       "      <td>DRA1</td>\n",
       "      <td>Drammenselva v/Krokstadelva</td>\n",
       "      <td>0.181</td>\n",
       "      <td>NaN</td>\n",
       "    </tr>\n",
       "  </tbody>\n",
       "</table>\n",
       "</div>"
      ],
      "text/plain": [
       "   station_id_resa station_code_resa station_name_resa         sample_date  \\\n",
       "0            29612           BUSEDRA      Drammenselva 2021-01-21 10:30:00   \n",
       "1            29612           BUSEDRA      Drammenselva 2021-02-02 15:00:00   \n",
       "2            29612           BUSEDRA      Drammenselva 2021-03-02 08:30:00   \n",
       "3            29612           BUSEDRA      Drammenselva 2021-04-06 11:30:00   \n",
       "4            29612           BUSEDRA      Drammenselva 2021-05-03 09:00:00   \n",
       "\n",
       "   depth1  depth2    variable  resa_value flag1_resa  am_station_id  \\\n",
       "0       0       0  ALK_mmol/l       0.205        NaN          40352   \n",
       "1       0       0  ALK_mmol/l       0.219        NaN          40352   \n",
       "2       0       0  ALK_mmol/l       0.237        NaN          40352   \n",
       "3       0       0  ALK_mmol/l       0.209        NaN          40352   \n",
       "4       0       0  ALK_mmol/l       0.181        NaN          40352   \n",
       "\n",
       "   resa_station_id  station_id_am station_code_am  \\\n",
       "0            29612        40352.0            DRA1   \n",
       "1            29612        40352.0            DRA1   \n",
       "2            29612        40352.0            DRA1   \n",
       "3            29612        40352.0            DRA1   \n",
       "4            29612        40352.0            DRA1   \n",
       "\n",
       "               station_name_am  am_value flag1_am  \n",
       "0  Drammenselva v/Krokstadelva     0.205      NaN  \n",
       "1  Drammenselva v/Krokstadelva     0.219      NaN  \n",
       "2  Drammenselva v/Krokstadelva     0.237      NaN  \n",
       "3  Drammenselva v/Krokstadelva     0.209      NaN  \n",
       "4  Drammenselva v/Krokstadelva     0.181      NaN  "
      ]
     },
     "execution_count": 9,
     "metadata": {},
     "output_type": "execute_result"
    }
   ],
   "source": [
    "# Combine\n",
    "df = pd.merge(\n",
    "    resa_wc_df, link_df, how=\"left\", left_on=\"station_id\", right_on=\"resa_station_id\"\n",
    ")\n",
    "df = pd.merge(\n",
    "    df,\n",
    "    am_wc_df,\n",
    "    how=\"left\",\n",
    "    left_on=[\"am_station_id\", \"sample_date\", \"depth1\", \"depth2\", \"variable\"],\n",
    "    right_on=[\"station_id\", \"sample_date\", \"depth1\", \"depth2\", \"variable\"],\n",
    "    suffixes=[\"_resa\", \"_am\"],\n",
    ")\n",
    "\n",
    "print(len(df), \"values in this project and period.\")\n",
    "print(len(df.query(\"am_value == resa_value\")), \"values are idenitcal.\")\n",
    "print(pd.isna(df[\"am_value\"]).sum(), \"values in RESA cannot be identified in AM.\")\n",
    "print(\n",
    "    len(df.dropna(subset=\"am_value\").query(\"resa_value != am_value\")),\n",
    "    \"values in AM are different to those in RESA.\",\n",
    ")\n",
    "\n",
    "df.head()"
   ]
  },
  {
   "cell_type": "code",
   "execution_count": 10,
   "id": "fe97953a-5ad5-4361-b7dc-a2e38bc8e6a8",
   "metadata": {},
   "outputs": [
    {
     "data": {
      "text/plain": [
       "[<matplotlib.lines.Line2D at 0x7f05623147f0>]"
      ]
     },
     "execution_count": 10,
     "metadata": {},
     "output_type": "execute_result"
    },
    {
     "data": {
      "image/png": "[encoded data removed]",
      "text/plain": [
       "<Figure size 640x480 with 1 Axes>"
      ]
     },
     "metadata": {},
     "output_type": "display_data"
    }
   ],
   "source": [
    "# Compare\n",
    "plt.plot(df[\"resa_value\"], df[\"am_value\"], \"ro\")\n",
    "plt.plot(df[\"resa_value\"], df[\"resa_value\"], \"k-\")"
   ]
  },
  {
   "cell_type": "markdown",
   "id": "ebd6c074-7636-4741-aa12-0b0d428e1cf7",
   "metadata": {},
   "source": [
    "## Update RESA to match AM\n",
    "\n",
    "There were originally 15 values to update."
   ]
  },
  {
   "cell_type": "code",
   "execution_count": 11,
   "id": "7f6e9273-b621-46cf-a70e-77a88d35088a",
   "metadata": {},
   "outputs": [
    {
     "name": "stdout",
     "output_type": "stream",
     "text": [
      "0\n"
     ]
    },
    {
     "data": {
      "text/html": [
       "<div>\n",
       "<style scoped>\n",
       "    .dataframe tbody tr th:only-of-type {\n",
       "        vertical-align: middle;\n",
       "    }\n",
       "\n",
       "    .dataframe tbody tr th {\n",
       "        vertical-align: top;\n",
       "    }\n",
       "\n",
       "    .dataframe thead th {\n",
       "        text-align: right;\n",
       "    }\n",
       "</style>\n",
       "<table border=\"1\" class=\"dataframe\">\n",
       "  <thead>\n",
       "    <tr style=\"text-align: right;\">\n",
       "      <th></th>\n",
       "      <th>station_id_resa</th>\n",
       "      <th>station_code_resa</th>\n",
       "      <th>station_name_resa</th>\n",
       "      <th>sample_date</th>\n",
       "      <th>depth1</th>\n",
       "      <th>depth2</th>\n",
       "      <th>variable</th>\n",
       "      <th>resa_value</th>\n",
       "      <th>flag1_resa</th>\n",
       "      <th>am_station_id</th>\n",
       "      <th>resa_station_id</th>\n",
       "      <th>station_id_am</th>\n",
       "      <th>station_code_am</th>\n",
       "      <th>station_name_am</th>\n",
       "      <th>am_value</th>\n",
       "      <th>flag1_am</th>\n",
       "    </tr>\n",
       "  </thead>\n",
       "  <tbody>\n",
       "  </tbody>\n",
       "</table>\n",
       "</div>"
      ],
      "text/plain": [
       "Empty DataFrame\n",
       "Columns: [station_id_resa, station_code_resa, station_name_resa, sample_date, depth1, depth2, variable, resa_value, flag1_resa, am_station_id, resa_station_id, station_id_am, station_code_am, station_name_am, am_value, flag1_am]\n",
       "Index: []"
      ]
     },
     "execution_count": 11,
     "metadata": {},
     "output_type": "execute_result"
    }
   ],
   "source": [
    "cor_df = df.dropna(subset=\"am_value\").query(\"resa_value != am_value\")\n",
    "print(len(cor_df))\n",
    "cor_df"
   ]
  },
  {
   "cell_type": "code",
   "execution_count": 12,
   "id": "90893ab9-74f4-4a8f-845e-468f108966d3",
   "metadata": {},
   "outputs": [],
   "source": [
    "# # Update RESA\n",
    "# for idx, row in tqdm(cor_df.iterrows(), total=cor_df.shape[0]):\n",
    "#     # Check unique record can be identified\n",
    "#     sql = text(\n",
    "#         \"SELECT * FROM resa2.water_chemistry_values2 \"\n",
    "#         \"WHERE sample_id IN ( \"\n",
    "#         \"  SELECT water_sample_id FROM resa2.water_samples \"\n",
    "#         \"  WHERE station_id = :stn_id \"\n",
    "#         \"  AND sample_date = :samp_date \"\n",
    "#         \"  AND depth1 = :depth1 \"\n",
    "#         \"  AND depth2 = :depth2 \"\n",
    "#         \") \"\n",
    "#         \"AND value = :resa_value\"\n",
    "#     )\n",
    "#     check_df = pd.read_sql(\n",
    "#         sql,\n",
    "#         eng,\n",
    "#         params={\n",
    "#             \"stn_id\": row[\"resa_station_id\"],\n",
    "#             \"samp_date\": row[\"sample_date\"],\n",
    "#             \"depth1\": row[\"depth1\"],\n",
    "#             \"depth2\": row[\"depth2\"],\n",
    "#             \"resa_value\": row[\"resa_value\"],\n",
    "#         },\n",
    "#     )\n",
    "#     assert len(check_df) == 1, check_df\n",
    "\n",
    "#     # Update RESA\n",
    "#     if pd.isna(row[\"flag1_am\"]):\n",
    "#         flag = None\n",
    "\n",
    "#     sql = text(\n",
    "#         \"UPDATE resa2.water_chemistry_values2 \"\n",
    "#         \"SET flag1 = :flag, \"\n",
    "#         \"  value = :value \"\n",
    "#         \"WHERE sample_id IN ( \"\n",
    "#         \"  SELECT water_sample_id FROM resa2.water_samples \"\n",
    "#         \"  WHERE station_id = :stn_id \"\n",
    "#         \"  AND sample_date = :samp_date \"\n",
    "#         \"  AND depth1 = :depth1 \"\n",
    "#         \"  AND depth2 = :depth2 \"\n",
    "#         \") \"\n",
    "#         \"AND value = :resa_value\"\n",
    "#     )\n",
    "#     eng.execute(\n",
    "#         sql,\n",
    "#         {\n",
    "#             \"flag\": flag,\n",
    "#             \"value\": row[\"am_value\"],\n",
    "#             \"stn_id\": row[\"resa_station_id\"],\n",
    "#             \"samp_date\": row[\"sample_date\"],\n",
    "#             \"depth1\": row[\"depth1\"],\n",
    "#             \"depth2\": row[\"depth2\"],\n",
    "#             \"resa_value\": row[\"resa_value\"],\n",
    "#         },\n",
    "#     )"
   ]
  },
  {
   "cell_type": "markdown",
   "id": "b74db1bf-d3da-4eed-8d88-aafe627a90cb",
   "metadata": {},
   "source": [
    "## Samples in RESA but not AM"
   ]
  },
  {
   "cell_type": "code",
   "execution_count": 13,
   "id": "b0d76d88-24d9-429b-a9be-4ffee1f4c567",
   "metadata": {},
   "outputs": [
    {
     "data": {
      "text/html": [
       "<div>\n",
       "<style scoped>\n",
       "    .dataframe tbody tr th:only-of-type {\n",
       "        vertical-align: middle;\n",
       "    }\n",
       "\n",
       "    .dataframe tbody tr th {\n",
       "        vertical-align: top;\n",
       "    }\n",
       "\n",
       "    .dataframe thead th {\n",
       "        text-align: right;\n",
       "    }\n",
       "</style>\n",
       "<table border=\"1\" class=\"dataframe\">\n",
       "  <thead>\n",
       "    <tr style=\"text-align: right;\">\n",
       "      <th></th>\n",
       "      <th>station_id_resa</th>\n",
       "      <th>station_code_resa</th>\n",
       "      <th>station_name_resa</th>\n",
       "      <th>sample_date</th>\n",
       "      <th>depth1</th>\n",
       "      <th>depth2</th>\n",
       "      <th>variable</th>\n",
       "      <th>resa_value</th>\n",
       "      <th>flag1_resa</th>\n",
       "      <th>am_station_id</th>\n",
       "      <th>resa_station_id</th>\n",
       "      <th>station_id_am</th>\n",
       "      <th>station_code_am</th>\n",
       "      <th>station_name_am</th>\n",
       "      <th>am_value</th>\n",
       "      <th>flag1_am</th>\n",
       "    </tr>\n",
       "  </thead>\n",
       "  <tbody>\n",
       "    <tr>\n",
       "      <th>6773</th>\n",
       "      <td>29842</td>\n",
       "      <td>SFJENAU</td>\n",
       "      <td>Nausta</td>\n",
       "      <td>2021-02-22 11:00:00</td>\n",
       "      <td>0</td>\n",
       "      <td>0</td>\n",
       "      <td>VANNST_???</td>\n",
       "      <td>0.2</td>\n",
       "      <td>NaN</td>\n",
       "      <td>40391</td>\n",
       "      <td>29842</td>\n",
       "      <td>NaN</td>\n",
       "      <td>NaN</td>\n",
       "      <td>NaN</td>\n",
       "      <td>NaN</td>\n",
       "      <td>NaN</td>\n",
       "    </tr>\n",
       "  </tbody>\n",
       "</table>\n",
       "</div>"
      ],
      "text/plain": [
       "      station_id_resa station_code_resa station_name_resa         sample_date  \\\n",
       "6773            29842           SFJENAU            Nausta 2021-02-22 11:00:00   \n",
       "\n",
       "      depth1  depth2    variable  resa_value flag1_resa  am_station_id  \\\n",
       "6773       0       0  VANNST_???         0.2        NaN          40391   \n",
       "\n",
       "      resa_station_id  station_id_am station_code_am station_name_am  \\\n",
       "6773            29842            NaN             NaN             NaN   \n",
       "\n",
       "      am_value flag1_am  \n",
       "6773       NaN      NaN  "
      ]
     },
     "execution_count": 13,
     "metadata": {},
     "output_type": "execute_result"
    }
   ],
   "source": [
    "df2 = df[pd.isna(df[\"am_value\"])].sort_values([\"station_code_resa\", \"sample_date\"])\n",
    "df2"
   ]
  },
  {
   "cell_type": "code",
   "execution_count": 14,
   "id": "6d7ed000-c35a-46af-8663-8058fdb11b4f",
   "metadata": {},
   "outputs": [
    {
     "name": "stdout",
     "output_type": "stream",
     "text": [
      "('SFJENAU', Timestamp('2021-02-22 11:00:00'))\n"
     ]
    }
   ],
   "source": [
    "for grp in df2.groupby([\"station_code_resa\", \"sample_date\"]).groups:\n",
    "    print(grp)"
   ]
  }
 ],
 "metadata": {
  "kernelspec": {
   "display_name": "Python 3 (ipykernel)",
   "language": "python",
   "name": "python3"
  },
  "language_info": {
   "codemirror_mode": {
    "name": "ipython",
    "version": 3
   },
   "file_extension": ".py",
   "mimetype": "text/x-python",
   "name": "python",
   "nbconvert_exporter": "python",
   "pygments_lexer": "ipython3",
   "version": "3.10.6"
  }
 },
 "nbformat": 4,
 "nbformat_minor": 5
}
