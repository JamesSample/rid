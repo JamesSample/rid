{
 "cells": [
  {
   "cell_type": "code",
   "execution_count": 1,
   "metadata": {
    "collapsed": false
   },
   "outputs": [],
   "source": [
    "import imp\n",
    "from docx import Document\n",
    "from docx.shared import Pt\n",
    "from docx.enum.text import WD_ALIGN_PARAGRAPH"
   ]
  },
  {
   "cell_type": "markdown",
   "metadata": {},
   "source": [
    "# Working with Word documents in Python\n",
    "\n",
    "Output for the RID project needs to be presented in a series of Word tables. Examples from previous years can be found here:\n",
    "\n",
    "K:\\Avdeling\\Vass\\316_Miljøinformatikk\\Prosjekter\\RID\\2016\\utsendt\n",
    "\n",
    "Tore has lots of code in Visual Studio for generating these tables, but I'm no expert in VB.NET and getting the extensions working in Visual Studio sounds time-consuming. Surprisingly, it seems relative straightforward to manipulate Word files using Python's [py-docx](https://python-docx.readthedocs.io/en/latest/) module. The code below illustrates some key features, which I think will make it fairly easy to generate the Word tables without Visual Studio if necessary.\n",
    "\n",
    "The first step is to update one set of Tore's original tables to the latest Word format (`.docx`). This is because py-docx can only work with post-2013 Word files. Some test files are saved locally here:\n",
    "\n",
    "C:\\Data\\James_Work\\Staff\\Oeyvind_K\\Elveovervakingsprogrammet\\Results\\Word_Tables\\2016\n",
    "\n",
    "Having done this, I can use Tore's Word documents from last year as templates and modify the values as necessary using Python."
   ]
  },
  {
   "cell_type": "code",
   "execution_count": 2,
   "metadata": {
    "collapsed": false
   },
   "outputs": [
    {
     "data": {
      "text/plain": [
       "[<docx.table.Table at 0x4240550>,\n",
       " <docx.table.Table at 0x4240588>,\n",
       " <docx.table.Table at 0x42405c0>,\n",
       " <docx.table.Table at 0x42405f8>,\n",
       " <docx.table.Table at 0x4240630>]"
      ]
     },
     "execution_count": 2,
     "metadata": {},
     "output_type": "execute_result"
    }
   ],
   "source": [
    "# Try \"TABLE3\" as an example\n",
    "in_docx = (r'C:\\Data\\James_Work\\Staff\\Oeyvind_K\\Elveovervakingsprogrammet'\n",
    "           r'\\Results\\Word_Tables\\2016\\RID_2015_PARTB_TABLE3_07102016.docx')\n",
    "\n",
    "out_docx = (r'C:\\Data\\James_Work\\Staff\\Oeyvind_K\\Elveovervakingsprogrammet'\n",
    "           r'\\Results\\Word_Tables\\2016\\table3_test.docx')\n",
    "\n",
    "# Open the document\n",
    "doc = Document(in_docx)\n",
    "\n",
    "# List the tables\n",
    "doc.tables"
   ]
  },
  {
   "cell_type": "markdown",
   "metadata": {},
   "source": [
    "So this Word document contains 5 tables. Let's try modifying the first one."
   ]
  },
  {
   "cell_type": "code",
   "execution_count": 3,
   "metadata": {
    "collapsed": false
   },
   "outputs": [],
   "source": [
    "# Get the first table\n",
    "tab = doc.tables[0]\n",
    "\n",
    "# Extract text to index rows\n",
    "row_dict = {}\n",
    "for idx, cell in enumerate(tab.column_cells(0)):\n",
    "    for paragraph in cell.paragraphs:\n",
    "        row_dict[paragraph.text] = idx \n",
    "\n",
    "# Extract text to index cols\n",
    "col_dict = {}\n",
    "for idx, cell in enumerate(tab.row_cells(1)):\n",
    "    for paragraph in cell.paragraphs:\n",
    "        col_dict[paragraph.text] = idx "
   ]
  },
  {
   "cell_type": "code",
   "execution_count": 4,
   "metadata": {
    "collapsed": false
   },
   "outputs": [],
   "source": [
    "# Change the value for PO4-P and \"Fish farming\" to -9999\n",
    "# Get row and col indices\n",
    "col = col_dict['PO4-P']\n",
    "row = row_dict['Fish Farming']\n",
    "\n",
    "# Get cell\n",
    "cell = tab.cell(row, col)\n",
    "\n",
    "# Modify value\n",
    "cell.text = '-9999'\n",
    "\n",
    "# Set font and size\n",
    "run = tab.cell(row, col).paragraphs[0].runs[0]\n",
    "run.font.size = Pt(8)\n",
    "run.font.name = 'Times New Roman'\n",
    "\n",
    "# Align right\n",
    "p = tab.cell(row, col).paragraphs[0]\n",
    "p.alignment = WD_ALIGN_PARAGRAPH.RIGHT\n",
    "\n",
    "# Save new file\n",
    "doc.save(out_docx)"
   ]
  },
  {
   "cell_type": "markdown",
   "metadata": {},
   "source": [
    "All this can be wrapped in a function to make it easy to update cells in the summary tables. The new function is called `update_word_table`."
   ]
  },
  {
   "cell_type": "code",
   "execution_count": 5,
   "metadata": {
    "collapsed": false
   },
   "outputs": [],
   "source": [
    "# Import custom RID functions\n",
    "rid_func_path = (r'C:\\Data\\James_Work\\Staff\\Oeyvind_K\\Elveovervakingsprogrammet'\n",
    "                 r'\\Python\\rid\\useful_rid_code.py')\n",
    "\n",
    "rid = imp.load_source('useful_rid_code', rid_func_path)"
   ]
  },
  {
   "cell_type": "code",
   "execution_count": 6,
   "metadata": {
    "collapsed": false
   },
   "outputs": [],
   "source": [
    "# Modify a value in 2nd table of file \"TABLE1\"\n",
    "in_docx = (r'C:\\Data\\James_Work\\Staff\\Oeyvind_K\\Elveovervakingsprogrammet'\n",
    "           r'\\Results\\Word_Tables\\2016\\RID_2015_PARTB_TABLE1_07102016.docx')\n",
    "\n",
    "out_docx = (r'C:\\Data\\James_Work\\Staff\\Oeyvind_K\\Elveovervakingsprogrammet'\n",
    "            r'\\Results\\Word_Tables\\2016\\table1_test.docx')\n",
    "\n",
    "# Open the document\n",
    "doc = Document(in_docx)\n",
    "\n",
    "# Update the table\n",
    "rid.update_word_table(doc, '-9999', tab_id=1,\n",
    "                      row='Maximum', col='TOC',\n",
    "                      row_idx=1, col_idx=0)\n",
    "\n",
    "# Save new file\n",
    "doc.save(out_docx)"
   ]
  },
  {
   "cell_type": "code",
   "execution_count": 7,
   "metadata": {
    "collapsed": true
   },
   "outputs": [],
   "source": [
    "# Modify a value in \"TABLE2\"\n",
    "in_docx = (r'C:\\Data\\James_Work\\Staff\\Oeyvind_K\\Elveovervakingsprogrammet'\n",
    "           r'\\Results\\Word_Tables\\2016\\RID_2015_PARTB_TABLE2_07102016.docx')\n",
    "\n",
    "out_docx = (r'C:\\Data\\James_Work\\Staff\\Oeyvind_K\\Elveovervakingsprogrammet'\n",
    "           r'\\Results\\Word_Tables\\2016\\table2_test.docx')\n",
    "\n",
    "# Open the document\n",
    "doc = Document(in_docx)\n",
    "\n",
    "# Update the table\n",
    "rid.update_word_table(doc, '-9999', tab_id=0,\n",
    "                      row='Saudaelva', col='SiO2',\n",
    "                      row_idx=0, col_idx=0)\n",
    "\n",
    "# Save new file\n",
    "doc.save(out_docx)"
   ]
  },
  {
   "cell_type": "code",
   "execution_count": 8,
   "metadata": {
    "collapsed": true
   },
   "outputs": [],
   "source": [
    "# Modify a value in the 3rd table of file \"TABLE3\"\n",
    "in_docx = (r'C:\\Data\\James_Work\\Staff\\Oeyvind_K\\Elveovervakingsprogrammet'\n",
    "           r'\\Results\\Word_Tables\\2016\\RID_2015_PARTB_TABLE3_07102016.docx')\n",
    "\n",
    "out_docx = (r'C:\\Data\\James_Work\\Staff\\Oeyvind_K\\Elveovervakingsprogrammet'\n",
    "           r'\\Results\\Word_Tables\\2016\\table3_test.docx')\n",
    "\n",
    "# Open the document\n",
    "doc = Document(in_docx)\n",
    "\n",
    "# Update the table\n",
    "rid.update_word_table(doc, '-9999', tab_id=2,\n",
    "                      row='Fish Farming', col='PO4-P',\n",
    "                      row_idx=1, col_idx=0)\n",
    "\n",
    "# Save new file\n",
    "doc.save(out_docx)"
   ]
  }
 ],
 "metadata": {
  "kernelspec": {
   "display_name": "Python 2",
   "language": "python",
   "name": "python2"
  },
  "language_info": {
   "codemirror_mode": {
    "name": "ipython",
    "version": 2
   },
   "file_extension": ".py",
   "mimetype": "text/x-python",
   "name": "python",
   "nbconvert_exporter": "python",
   "pygments_lexer": "ipython2",
   "version": "2.7.10"
  }
 },
 "nbformat": 4,
 "nbformat_minor": 0
}
